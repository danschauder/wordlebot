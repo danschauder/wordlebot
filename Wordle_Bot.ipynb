{
  "nbformat": 4,
  "nbformat_minor": 0,
  "metadata": {
    "colab": {
      "name": "Wordle_Bot.ipynb",
      "provenance": [],
      "toc_visible": true
    },
    "kernelspec": {
      "name": "python3",
      "display_name": "Python 3"
    },
    "language_info": {
      "name": "python"
    }
  },
  "cells": [
    {
      "cell_type": "markdown",
      "source": [
        "# WordleBot: Using Spectral Clustering and Reinforcement Learning to Win at Wordle\n",
        "By Dan Schauder"
      ],
      "metadata": {
        "id": "p_b4gGnpnIbk"
      }
    },
    {
      "cell_type": "markdown",
      "source": [
        "## Background"
      ],
      "metadata": {
        "id": "mDC4u7X-nNUy"
      }
    },
    {
      "cell_type": "markdown",
      "source": [
        "[Wordle](https://www.powerlanguage.co.uk/wordle/) is a simple word game developed by Josh Wardle. After reading about it in the [New York Times](https://www.powerlanguage.co.uk/wordle/), I gave it a try and was immediately hooked. My wife and I have developed a bit of a rivalry, comparing our guess count each day, and I thought it would be fun to build a bot to add to the competition. In this post, I'll review the rules of Wordle and walk through my bot's design and performance over 1,000 simulated games. The main ML/AI techniques used include [Spectral Clustering](https://en.wikipedia.org/wiki/Spectral_clustering) and [Q Learning](https://en.wikipedia.org/wiki/Q-learning)."
      ],
      "metadata": {
        "id": "aj2Abrk55Wrq"
      }
    },
    {
      "cell_type": "markdown",
      "source": [
        "**TLDR;**\n",
        "* I used Machine Learning to build a bot to play Wordle on hard mode.\n",
        "* Over 1,000 simulated games, the bot took an **average of 3.767 guesses** to discover the correct word.\n",
        "* The bot lost 8 out of the 1,000 simulated games for an overall **win rate of 99.2%**."
      ],
      "metadata": {
        "id": "pSCfMIMR-QI9"
      }
    },
    {
      "cell_type": "markdown",
      "source": [
        "## Wordle Primer / Rule Review"
      ],
      "metadata": {
        "id": "ydNRwls5_jUV"
      }
    },
    {
      "cell_type": "markdown",
      "source": [
        "For those unfamiliar with Wordle, here's a screenshot from the [Wordle](https://www.powerlanguage.co.uk/wordle/) page describing the rules:\n",
        "\n",
        "![Wordle_Rules.PNG](data:image/png;base64,iVBORw0KGgoAAAANSUhEUgAAAe8AAAIYCAYAAABE9mTxAAAAAXNSR0IArs4c6QAAAARnQU1BAACxjwv8YQUAAAAJcEhZcwAAEnQAABJ0Ad5mH3gAAFFwSURBVHhe7d3vryXHnd/3/A3UQwckAUfCPhWpR9oNIQNStIAiBrvWaogZmAjhFbQIAwbEjmEmsm98DcZgVjBj7VKQIi5OpMEY4i4TEhe6F1xBJDfk0pI514PZkei5woD/S7mru6v7W9/6VnX3+XHn1Jn3gxdmzunq6m9Vd9fnnHN//VePPPIZBwAA6kF4AwBQGcIbAIDKEN4AAFSG8AYAoDKENwAAlSG8AQCoDOENAEBlCG8AALbsH/yD/9p9/en/of3X2i75Nr/33z41q21AeAMAsGU+uL955ZnJAPfbvvLffbVt6/+12lgIbwAAtsyH8lSAy+D2bfT2EsIbh+naDXd+/1N3cf+OW13T26+61S2/7VN3cqy3fcZdWd1pt0nnq6uq3bE76bfFfYzPX9y64a7IfY7P7Oel0Kbk9FjsI443OHNHss8sa9+RHvPRab8tOn7ZsI+Xmw/zHInaFhwP2CelAN8kuD3CG4dprfAen7fJUBzbRiE3HNeLjz0r/JaE90Tb9AWHVg5vT/axPLx1//pciPlWwT6+gJr7QgTYT1aAbxrcHuGNw7RGeI/vEtU+MpBFcFlhpt+1j/1nwr5oDL/kE4JMTV52HIl8/0MfIlQXh/fwScOZO8mNXYxjrGGsa/5cAftLB/imwe0R3jhMS8PbDBHB6m945xveHYqAvtWH+BB0IZCmAlVaFq7m9mLQFl4cJGNbHt6hvQ/g4UWNUa9+l11qC9RKBvimwe0R3jhMS8PbCKvcPsO7weQYIQybPsK2EECT/Vty4TrjXfys4y17cbAsvEPf/dwUz8dYx/npWd/OeEEBVEx+VB7C2z9ntZ2D8MZhGsKiLATEnHd78p1k95wKvxCYbR8hYLuwGvqf+5FzKxeu+dAdDOOfF945sv9F4Z28eJh4wTG0X3AMoBL6a9zhHfgmAU544zBdSnjHz+ntpW3zPMjwTt8hhzHMCVarbXmOx3Bf9ukEsN90cIfnNg1wwhuHqfgx7RgUQ/hNfsxsv3McAyl8U5Y4Xujz9EZ6vFlyIT3xLtabHI8340WAMD+8Sy8KPOuczHsBBdTECm65bZMAJ7xxmJaGt3inbgZZrj+xX0eGpQ6xpe8o8+E6BGkm6OYF7Y7CW38EbjH6ILxxSErBLdusG+CENw7T0vBuDOGkno8COgkWFdBRKI3HsfedUgjXQk3ZcSR2E96ldkNAGy9kCG8cEv+7ykvBHcgA92FvtbEQ3jhMa4R3ErYJ651zvI8OwTGsGlPvWBMT4TrxDnf66+trhndOO76JPsWLjuxcEd44AOGdt7VNC23/4T/8b8ztFsIbh2mt8O5EgdsrBeHY3jhWIaymzQnXsc1o7sfzOwjv4QWFNe+eeLGjXswQ3sB8hDcAAJUhvAEAqAzhDQBAZQhvAAAqQ3gDAFAZwhsAgMoQ3gAAVIbwBgCgMoQ3AACVIbwBAKgM4Q0AQGUIbwAAKkN4AwBQGcIbAIDKEN4AAFSG8AYAoDKENwAAlSG8AQCoDOENAEBlCG8AACpDeAMAUBnCGwCAyhDeAABUhvAGAKAyhDcAAJUhvAEAqAzhDQBAZQhvAAAqQ3gDAFAZwhsAgMoQ3gAAVGZWeB+dfuou7kt33Oqa3fZBurK64y5Oj4fHbd3i8fqO3Uk77jN3NDx31a1u9fNx64a7UmwbnhOifRrXbrhz3SYw+0+dHIv+zDpi7XypPkaZ/do6Nzj/x2fRcc5XV+12DX0+E5vWAgCVmgjvPgD0AtovwHFYPHi7C+8Q1CIoorA1ng+BWwrlbH+GYRz58PbGMNxReG+iH+N43XQ15q6jyfAGgIdUMbxL4RcvrOki3G4vvWOM+l132ygKov64Xf1n0f5xUIh3z2I/2W8Q+h/CUb2DDP3G7UT/Ud3G8zr0B2H8IUz1495QT3hBkGknJGOao61THqP5/0rORf54S15M5c7nySq8yGmO+3/KWrzy+WyPH7bt4sUJAFySQnj3C/OwMJZ0QZEPb729W2RlwI0BMndb6GvUHlOEQ7dYj2PoAiEs2mlfxXAJ4dhvH/o+7sMker4fazaQvRCufX2bhncjOnahXbCd8JY1d3Nqz2HXVl4jU+zzKcYT1VI+n/H1mD4GgJrkw7tdGPMLfyxdmOXiqBfh1tB/KZDLYa2Zi708rlzsfRibQRnCQGn3DUElg1EGWB9eYd5U4GtdGKnwzhjnQB477q8d/9A23063N2VqjuawP0buvEf7tW39fqGuTinMt3k+83UBQH2Whffw0WwQtpcX8S6kLCrkPL3AlrYpSxb7tm3oNxKCSQvB3Gw3322L50OdWwlvXU8IvxrD2/ct6unHnAvw7Z7PcHz5HADUaf2PzdtgWhDeuTCQZIDp9qVtvcWL/cSLAa0L2yYcb3VBEcYbgiM8P7xLDjUXw6yfY91WjDf+5MEIwV6or6sr3y4Y6o76nyDmcOq8R/u1bdPrqXRt7OZ8hhdh5bkBgH229jesLQnv+QtrL+p7/rYli33xGDntPmHhF0EkgtYb50EERTSP4nkd1nKehuPJ0MuE8lBDfE5KY2znq2lzOeHdjVm29bYV3svPZ1o7ANSiGN5DAOjFNQmKPoyGdv1+wyLePZYhMS7y3b5y27hIl7Z1j6VFi31Sc2MqAIZxN6KA6vtqt8mgVfskRNvQTgVfO4bo+X5uM8a5KrXrxhjC26bGEURz2B1jXng39Pz2Y84F6DbPZ1LX4rAHgP0xEd6dIUCEZMGNQqpZFP3iKBfLaHtjG9u0oW23KJcXe08H3NRiPoa0freahqxkBKluF2pP9h/37Y6ZD+X4nOTbRYFmbvd2EN5eG5rjcXLB3drq+ZQvsLx0v2ItALBHZoU3AADYH4Q3AACVIbwBAKgM4Q0AQGUIbwAAKkN4AwBQGcIbAIDKEN4AAFSG8AYAoDKENwAAlSG8AQCoDOENAEBlCG8AACpDeAMAUBnCGwCAyhDeAABUhvAGAKAyhDcAAJUhvAEAqAzhDQBAZQrhfdWtbn3qLu7bTo6tfZY4didb6echdXzmLm7dcFesbY2j0+Y8nR6b2/aZrLs8honr59oNdy6u11aur7btHbe6ZmxL+OOKthPnYa8tGne3Hpjz7efg/pk7ah/H5+XK6k7hHKo+F9Wza+o8b2zT9e4yr7ttj32+ra5b0fX04Ma0K5Phvf7FNmXTi/kh9xCEd1n5+vGhcb66am5LEN729sjc8I4R3sGm691lXnfbHvt8u1u3HtyYdmUL4d21k+9w4kWzu2jTdz/9xXzqb/yw3V4ABu0i0bdtLtyVONHtIhFdzH3/ov62zXAsdSLbhSNsU2MobYv0F8ixaN/WJOdAHNdYrOKLNzN3ch4yc9b1c2Yft6XO29RCEB3Ty5wrcwHu56V/rq1N9iVuVjl+fSNH568fW+769PvOXiiTmnNzE5+Pk59lzoOaK1lHW9cqXB/WPKXt5Ry0tQ71qDqNdu09Ira1/fXtz5s53H54j2OIzldyfcW1t/dUfx5OTgv7FebWkr/n+2tyZZ1DdZ6HY8TP62vzvDmvYXtaVz8vcr2TYzPum/Hcq3pmXXdpX7I+z567eWMvvzAuz1N8Tvt56Y/TjTm3bvm2zePF62tcjz3u+mwY3v0NqE/OMIHd9vFEy8f9hA4nMu0r0p4IUU+4UPv2UxdFsj2z4KT7lrZp3bbxOP1jcUFFi3Hxhi3NXfPY1x+NN9b2I+tsx5s7L6ouLdrX68dltk/7lrW2x0nOw1inrEP+v7uuxoUqGV/E19Aspv56aud/7McUnYepufFjF3Ohz0M7HrGgqnPc1S22K377eGx9PXXz0G3v6hzrUo/7+yUZx9BX3z46ryVde3O+ozF3NYd27XnLzr3qs685nmsxhom51ebc88l85M6zGldoH2rrrs/SXPbHE/VH58MYy/LrTm0Xj7vrbnys76eYPXZ9XcpraxTPizlPsu6+rzCvXZ1inqNxdG3H/fvHepzRPSD3lWOq35pf886d9IacsOhm0eKT5qUnVm2LFoH4ZitfFPaJ8ye6u6jSWkalbVraNr4BG/KmK96w+iZQZD+G5LiyP3Nfe45y0v5H+lyM85y21XMm+y3PxfQ5G9vH10pCX7PFuVHzFLXvjqNrktduad5a+vq41bwLaV6IdMfz/Ys69b0lx5FcW8Z8GddfXj+HTR+2UEt8nPS+ldR8GfXoa6A0tzF1nnrjtZjOR3zdxvubx2nr7cYd72uZmP/i2P1jNR7jutP3mNw/ue6K594Yux6bdf217FqCtK94XpI6o/7SOUza6/tnGIeavwOwta95t5PYTGynm6TyBZ2eiFJ733/p4ixeFO1JlPWNQp/t/uH56OIpb4vZF1dUd/biGtsPx2hvkP64el6imzdVmq9oPJGJi1vPY24uZtw0uoYwZ3L84//TeV16fVpzbW2bnhs1nug8dHWa+ydj6vfX2lrGQPDn0O8zXMf9sdo6k/MvatPjNcdvnxtbYb7b63TX4T09t5G2L6Nto7sv4jq9eE7juWnrUP10loS3Nf/i3GbHHtqK7cZ1p8+NnPvkujOvh8AYu57jdn8rvBuFdSudp7h2f6zcumWNM2kv5yUao5q/A7BxeLcTK0+SmLDyBZ2eiFL78kmduCiKF6oiLjx9vOK21iYX19jevlG64w7bZD+G0nyVz4tBHD+Mzaxz0F077fFVne2x277sxV72O/4/ndfF4d32kbkGZl+znuonGp9VZ6w8b944Lt+27csfw+/T/BvOqV2nqE1fW8a1VpyTRGG+fX2XFN7m8S3meKW0v3hO47mZOm+Lr5vhub6G4thDW7F9xnUn5z6pvzg/M8be7p8J76Bt0+zr9fun8xTX7o+VW7escSbt5bxEY1TzdwA2DG9jQuSERTe1lp6I0g0gL8ROV9+8iyI91pTJWsxt6XHmX1xj++RGCeR8RjdvKu2nm68hUKduPCGd+4k6G2GO/DdMjeO3rql4zmS/4/9F7Zn9Itb4SovN7GvW88cV5yw6D1adsal58/zcdd9c1Nfh62vnUh3XHGPfJrm2jPlK2pRY564X1RIfx7p2RqpPo57yNVBSuD4y2+P7Oj7P8bbU1PbJ+S+O3T+O65lz3dn3Ur+9eO5njH3yPhFE27SveF7S+0OOLZ1D3z4at5yXaIxq/g7AFsJbtukejx8xphfVeHLSE1G8AdoTIdq3F4Q40e1jdcGJ9t1jebHJ4+taSheMfaN00jEVL66+/bC9H2M3ptLc6X5SbdtkPsL4u76jm6SdP/tm1OclzG20vxbGEs2HHlNfh2gjx5iMV9TXjS+e65Ga1+I5a0Q3+dTc+L7FIqDPQ9tWbFfHjsaU0/bRtFPXSXy+dZ3qcTSmTnwe+/aqTV7X3pzvZH7Gdu0xs+NVfRo1p9dAfm61+Jr3ZG1xnUP7aM7lsbr28liyfbyvpds/mf9hblT/0VoQtot6pq479Ti57oy5Hk2NXT+W0nNSOofdORrPQ3df6+32tRXaR3XIeYnGqMdUvzW/Ya0RnYzwvJ8c+0QPbYYLLj0RkzeAPFbTLn5XF05853x1HC8Marsnt8XjaMgLvbQtsvDiCo9Dv83zR34OQv/hBhbbx7kJ82pfkN1x5Y+G6HbqvESLnKauhaa++KayhH1UGzWmk+N4EWvPkfF/L9zoXhhbdA4janyin0SykJXnJlxH3XlNz4Osc2wn9i3V0ur6nN4vPS/DtsziHGr3uh9ZU3Vn77/uWOZ8t9dwZoEdzrd9rQxz5Ws3ai5dA150bxnkeL2xflVnQ48/7DscQ127sm157jx/vGZs8kfTdPvSWtCI60mvu3idKs9j7voIkrEPx9PPGwrz5Mlzotdpvy2/bqXnrGsvapHrqxpjPKa0r9oUwnv/JScOAICHQDXhnbyynXjlCADAoaronbf6iJDgBgA8pKr+2BwAgIcR4Q0AQGUIbwAAKkN4AwBQGcIbAIDKEN4AAFSG8AYAoDKENwAAlSG8AQCoDOENAEBlCG8AACpDeAMAUBnCGwCAyhDeAABUhvAGAKAyhDcAAJUhvAEAqMy88D4+cxf3P3Xnq6vG9mN30mzz2y9u3XAvr+64i9Njo92+6eo+Oba2HQo/xjtuda1/fO2GO5ePH5jLnvv4Gr0SbbvqVrdkLdut7Yq6H45Omxr6x/L/D0KulrbmZJ6mrbvfg6DPy9Y8oHts/+b+YVhfH6wZ4d0vbqc+wM/ckd7ug11cNDu7KbbuYbi4/BgJb32Nxi43vKUHHd4S4b0lhHeP8N616fBuL0Yf2unJaC+Y5rng/b8Vj4cLqVsc0+c93+eZW4V+chdf/84/iC8I1X8j/oSgq3vYPtyw/XjaFyVhu/HiRJJ1NLWuigve1HzFN/i62/Licbd19AvLyanoT895ca5T7aI/tI/nL65bbtNzo85htKj6tkuvkXGO4hr0eOLjdtfNnOsinttcCETH7uvOvdttlea+PXfjNvtTsP6Yco6MMPHH9X3nakn6UOI5VXN968ydJHMa9i3dq35Om75WhXkv3H/J9kbu2rXOS/J8cs5j7XxZbefcY+r6Geagrb90n3Q1Wud+eu5z4+vOiWzb9SVr9nXk5iN3L+jaS/e4rk2vcWrf3LVpXOvJnEbXSHpfRHWp/tr7ZhXuQ13j5ZsM73ZS+wElg/P8ZOgbYGiTXhhxH/2J131KevKjCe1Pqti/uwji7ePx5eP+2EPtaV+R9rjiYgwXQd/evuDH9sl2OS49xrnbJvkaxEXWj0HP/zA/um/rZhD0mOTj7jyMfcWP5dzoedeP+/OUOy9eW7eo03ocnRupO964yPTHG9rb9ehFSV7jUjtuUbu8/qN7oTj3+pj6sdDup+dd79ttz9Uiz2O3j6DrFI+TY0XnQc9jaB+PMTvvE/dfef5S+rx0teh5E/0J7TYxP9Hjvs6x725c4/VReuz/r67bqK2fE3tMXb25uS+Pr/3/UG8/73Lsvi8xVyN97cvH3bi6etS51I/1uYse62PoDJHstsNjNSf6cdKvuoba7bLOB2wivOUJaFg3hJ8AfSHLk5IsAvICVf0nupOht8cXmyJrjC4CLT12229Sr9gWHTO+ANN9Zf9yzKPhwirVWRzDFHVc4/yNF+zSuS6dO2ubvLHEdmt8UZ2l43jpDetFN6J5HQZ63Onx5Lk156Ot1z5Hur2sa/7cT82BFPflj9F+ihBq8HORHD/+vxxvu8/Anusg3W+i7onzLPvT8xhq6Z6bmr/4+XSbVWd+rOk4heI9ltlX3AO+bTimb3venLvz0N73nTlu2q8c08T4ouvXt23ewfvrpm/fXkNqblvFtUkcc+oeL/XjtyVj9n3HcxzE8yDb2eczdw+01LlMtj9g5fBOJs6YANWmnTx5oTYnMBUmxLqopG672YeaxHZih+1d/+kFLaXHLrX3/ZdOfLqv6L+9CGR9o67Pbl7Dc/F8lLZNkRdvQ12M3jiG+XPdMvqa2jbO4Tg39pzLusU8Rm0Ce3vbb6jbXACCbn7H/dP+ZI3xdSbZi09UR0NeM0vmvu1HPZcTz3NTlz8fov4wNruW3Dnxyuci3c9u3x4rjKVwnvW85++/6fnTovMyeb3Gz8fHU/sV77H4/4N2n+76Gevy16Xvxx9r3GbXMzH3s+7Hfru/V5rjj8cajy/39dJjSuPx7XbimIU1rt23fz6Wjqcl5rL9/3BcMR+ifdt/7tyoeTPP3QNUCO94QmPiZE6Fd/bkevaEzt/eT6ivKRxHTHj5+GnfpfbjhR4/lx+r6D9z81iG8RjtS9tsvgbR1qhjHMP0XEdKY8psG+dwPJY957Luqbrs7W2/4UbbdngvuIGjOhpy/7Xm3o+laevlFvJhvP48tHWHIPD/jveuXUvunHjlOtP94vbtMXztoU10nUzPe/7+WzB/vei8TF6v8fMjuUaKwFB9ybmV/x+0+8j9/f/9mLrn/D5+bEenaY1Bce5njC/83/fTPuf38f35f3W9vfSY0nh8u53fbtck17jyMSzj/TyMpX3evkba/nPnRs1bsv0By4d35oR3z4tJKIR3t9CMi0XKntBRdyLyN5BxAci6i8dPj126UKJxtfobt38u3Vf2PzVOrTTuqTmR1PwY53S8IJf065XGZG2T/Yvt1jmK6pyaO7vu6EZT12is23/sPz2ePLela8SirxtZ1/pzP1WHH0P3TX6hT3+s9pttJmsp9V2uM91PzqX/f+FenTPvovZQy0bzN/SXHntZn2L/4j2WmdvoHvDHbfb337gn9jlvzt1J9nxb/eq5nxifr+H0Rnfs4Xx011C8nzB3fZ28xzVRW/EYtu7cyrF49vnM3QMtVWOy/QHLhrd5kfWiQfjJFe26iQsD7CYsGnB0MqyLSmnb506C3r97PLZPT9hYe3rs0pi7Eynat3WpeRB1tn2J9t1jeREWLm550ZS2heey/DFEW2Pf5FxG2+0LPkjmS9Sqxxs/lnOvrxH9OD1PCV239Th3Xvvjjf1PXRfddjknyTwI7bZhLPF8z597XVP5vAxzKPbp5j8eV66W0njkOW4fi2sq3U/WrcfQPR7HrLer/hbef1NzpM9LNz+56zWWjFPOydQ91o9zrEs/7tvL5/qx5s+3UZOaz8nx9fM7PheuIXsOOukcj2OVx+/7GuZAPS5cU+m+RnstjEVfw/oaUY/1nHTnYdwen8cHLxPe6QUVkYP2/5eTlFwEXV/tjRY9P26TN6ylm9Sxj6iutpawzdeka1fHH2pNj53eAIo8VtPO/6hKcuH2289Xx+1FJ/uX273Nt6U3jxb2bdtMLiwTc22Ia4v7jvsqnff+Bg1toxtk3jWSXgdqW+G8DnW2x51xXQzXeK90zaj7Qc73ormPxhfvZ+n6EnM+ce7l/5PxKrrOMFfpfmoui/fqjHmfuP90XcVrN1mn9P7yetXU9SrndcY9FsYa9k/qbMcp+0jnRpuc+9BmOK4eXxqSaZ+WeCxje3380j3ez1HYFu3nqWMUz41XWBeTa1Buj2s8OfbHHduk5/HBKn/DGor8ySwuEJehWSxOHnQNwAOwF/cf9pAPYR3Mh4fwnil5FWq8wn4QSt/EAhyKfb3/sIf8tTH5iUH9CO/Z1Mc+LBzAJeL+w7Tu4/eH49ogvAEAqAzhDQBAZQhvAAAqQ3gv1n3trfRjG0X+RxXEN1PM+3GMfZT+KAoA4HIQ3osR3h3CGwAelHJ4tz+OEb67s/+byiFojB/VSH6IPfqBeLXQR32rn9csbRPm/PiIr6k7rv5u1XWOGfcxtlF9536QP5qP7hcNdGNY8nd4c99J2dUg901fGPjADb/goFCzn4tmv/bvJYttUR2nTc3Nv4Q3AFy+Qnh376yGMAjhNje826ASvwknaq/ftcnHpW1K2+d4jBAu8b5+ex9UIqC6tnPq0bq+xm267/RYEeudtzxWO2/jvCYBrOdVaNvqOmRbv2+7faLm/lwnLwREX92PZOTmCACwS/nwViHjtQv2rPDuwkAv7GO4lMKxtE2Lj9O+y8787eJE8cVEiRqbFabG3AzUvCbhHNXi/5/248ep3523ohczft/M3+WdqjmpvxtzfMwlcwYA2KZseMfv4sRzs8K7W9iHj1ilvs/unVz8XFDapo1B1oVV7m8Xy/ZD36L++ceMwzuak4Eduq0l4d3Osax3ZIa3PG7/wsX3H81P026y5uTcipqG9vYLNADA7u00vGct7O27wEwglbbJNr6mIbR9qPi6/L/ju8shtAv1D/0Vj3nZ4Z3pJyO8mPH9tvWHefH/9udzsubkuIQ3AOyTnX5sng1cgx0o09u6YJn628VGmE4EY/6YKrTasC98BC2f95aEtxmaE3z/U3+Xd6rmpH7rfK5RGwBgK9b/hrXc9hCYbUDkAkAv/HO3heekbrt/pxz2aQMx6kP32T3Of8Na6ZjdNt12/JRCP1YWhXcYiwxaXasSzsOwT5gf2cdEzUl4N1Tgh08ysnUAAHamEN6NIQi6xb/9UTEZSu2C3m9vAuhIbQ8hGkRhKPf1cv3qbYYk4LLhE/r027oQHGpacMxhXEObEJDT++oXDlPh7YWgDMqBmb54SI8h2oV+Zc3W/DXk+Txf3UhfZCTHAADsQjm8lXaBLgYTAADYtfLXvKOPWic+rgUAAJei+M572ce1AADgMiz62BwAADx4hDcAAJUhvAEAqAzhDQBAZQhvAAAqQ3gDAFAZwhsAgMoQ3gAAVIbwBgCgMoQ3AACVIbwBAKgM4Q0AQGUIbwAAKkN4AwBQmWx4f/GLvwcAADZkZeymeOcNAEBlCG8AACpDeAMAUBnCGwCAyhDeAABUhvAGAKAyhDcAAJUhvAEAqAzhDQBAZQhvAAAqQ3gDAFAZwhsAgMoQ3gAAVIbwBgCgMoQ3AACVIbwBAKgM4Q0AQGUK4X3sTu5/6i4yzldXjX32Qaj7zB2Z2wEAqBvhDQBAZWaEdykEx4A/Oe6eOzpV4X581j4eif6u3XDn/rlbN9yq3+/i/h23uia2eafH/fHG/k9WYntUo1G37KsRv/C46la3xm1eGAsAAPtow/BuhHBuAviK/L/fpkJzEMI4t/3WneR5/eIgEY6p684co9xf/wKi7Q8AgP2y5sfmcbjFAVgIvhCkSbiHfcZjhnfH+p38cKzh3XjYR/fRhfeV1Z22/fhuut/e19D1R1gDAOqxlfCW727tr4WrvnR4D++aw0fYY/8hfOPwjo8fB3Qc3vELC6l/Z176WB8AgD20+cfmngzAIYgbuXfaG4d3/HXp9cLbfgEQyP4BANgnWwhv9a5aBJ8O3ujr4/7xBuG9/sfmE0KN4pvkAADYJ2t+bN7ow214x+ofhzBWwZnYRnhrQx/qRcdQk9LWn36necA7bwDAvtosvFVY+/3id8ZxOPpA7Lb34bxBeG/yo2Lj8bw0wIdPCgAA2EOF8N5PQ3jzzhgA8JAivAEAqAzhDQBAZaoLbwAAHnaENwAAlSG8AQCoDOENAEBlCG8AACpDeAMAUBnCGwCAyhDeAABUhvAGAKAyhDcAAJUhvAEAqAzhDQBAZQhvAAAqQ3gDAFAZwhsAgMoQ3gAAVIbwBgCgMoQ3AACVIbwBAKgM4Q0AQGUIbwAAKkN4AwBQGcIbAIDKEN4AAFQmG97/+N8+vdd0vd+88sxeo97dqr1eAFiC8L4k1LtbtdcLAEscXHjr5x+0XF3Uux2HUi8ALEF471iuLurdjkOpFwCWILx3LFcX9W7HodQLAEsQ3juWq4t6t+NQ6gWAJQjvHcvVRb3bcSj1AsAShPeO5eqi3u04lHoBYIkF4f2qO7v3qbu4L9z6S6NdcMW9/p9U+9Zv3dnbVvvOP/vbW6r9LXfzR2k7Xe+iRfH4TB1jDafHdt9Krq5F9Vqef8Pdteq6/657+QtG+5k2rffo1Kqp4OKeu3v3nvvoF2+71dFz7onH7H5z1q/3S+7P3k/ruduc1yfM9srT33fvqX0vbr/hnp+of7ouAJi26J33X3z823ixuveOe9Vo1/lz9/PfirbCL//2T4323hX349uq/W/ecv/SaKvrXbQoVh/ej7uX3rpn19V455UnjX3m2bTexeGt3X7bvfSU3bdlo3qtAL5/z715/XG7/cAK/jn7bXreAaCzKLz/5N30XfEbN9J2rbffcb+J2gq3f+yuWfsY7+5/88tXjXYPeXg/duxOrJqCD77vvmLtN8Om9W4c3t6Md7DBpvV+7bUP0+PfuuGuGG2DR6+/nXzqcfdk3jv2uXUBQMmyr3nf+Gv3S7Vovf83V8y2//rvfhO1i/z2XfcXxj7/+KdvuXPVNte/rnfRolh5eD/xyrt2TYOP3Q+ftvedsmm9Wwnvxkc/+LrZv7ZpvY88ctX98Ffp8d97LXP8x15wN/WnQ5+8616e+WnB/LoAIG/hN6zNfWf8p+6Nv4/bxX7jTv5a7/O0u/bz/6Da2V/v9nS9ixbFJLzvuNU1o90W5OpaVG/kyeQj2/O33nYficfe3PDTNq03Ce/iu9jH3RN/eN2tPjC+BDDx7jfYtF7v0WdvJC8aLz45c0fG9w5c+dHHcbvGe9/9UtIuZ0ldAJCzMLyNr3v//V+7f6bb/ejfJ+/QNevr3knfn/zM/WvVJtD1LloUaw7vp19XQe3fZX/d/fAj+Vzj9hvuW9b+Ezatd1l496x3s/eb8LTaKpvW23ncPf/TO+r4zYuin77gHpXtnno1/Rr5B993X5NtJiyrCwBsi8M7/br3f3A//vO4zbW/+SBuc+9d9/M74rH3n/5Sfd37X7j/7zdxm9zXuz1d76JFseLw/toP1Du/j15vwyN5vhnTzT+2+yjZtN61wruRftx+meHdeOy6e/MTXYO8Lp50Ryf6E4IP3fcWfnlicV0AYFgc3unXpX/rfv6zuI1+B/2bj/88/REw/XXvP/+x+1Bub+S+3u3pehctitWG97eTd6jDx+PJO/JP3d23rqv9p21a79rvvO+q/T55271otVU2rVd64ugs/fG79191TzXbHn3+jeSj9Y9+dNXsp2SdugBAWx7exte9zz/4F2L7/+FO1DuYX777LeO7z3/jTv5K9Puzd9X2/Ne7PV3vokWx1vBOfra7eef3+2H7V933PpDbGk0AvnRpPzfdWRLej37+S+4rzx27m9bXvH/xykbfvT233pj17vqeOzl+wa1uyecazbieXTi33np1AUBsjfB+2r2uF7I7/979SdiefEd6+HGy9Oe+21Dv9/uXH6ivORa+3u3pehctikl4LzTzo2AvV9eielvGz3arHwn7SvJjT/fcmy9N/+yxtGm96cff6/jY/XDmi6lN60089Yp7J/n4XLvjbj6/bF6DtesCAGGt8E6+7i0+Ak+2DSFs/Ma14eve33I31dfE/Uft+riSrnfRolhjeD/2neRrsu99V/0yli8Y31A18x1ssGm9m4d380735a/G3yhWsGm9lqe+a/zst+C/HDG3Pm2TugAgWCu80697h4/A04CW33SWfN17+A1t6bvy0te7PV3vokWxwvBOf7bb+jWo6Y+RLf11qZvWu1F4/+rMvfzM58x+czat1/b19EsQQeZHyObarC4A6KwX3sbXvbuPwHUIq29m+6ufuTtinyH0k+cLv7mtp+tdtChWF95GKGfeUVu/wOW9176atMvZtN51wvujn1x3T31+ux9Dz60361r6DYD+U4F3Xp7/M92WjesCgMaa4Z1+3bv9mDv5prQP3OvRj5HZoZ//qD1P17toUaztG9aM7yTP/v7yL7zi3lFtw4+Tme2VTestfcPaZ3/3G+7F1YfmH1T5aPVt91nRz1yb1pv3uHv5HVVnM5ZnzbbzbV4XAGwQ3lbg/lj/SlT5jWy95Bex3PpL80fL5D4WXe+iRbGy8E5/hnup+b8uddN6S+EdPNXMvx3gzy3+WvKm9ZbMGctS26gLANYOb+vr3nf+s3xs/xa1JPTv3XK/VN+INfX1bk/Xu2hRrCq805/tXsf5zW8bfac2rXde4D3uXjT/Kto9d3K07C+ibVpvCeENYF+tH97GR+Ax9XPcgfHHTWLTX+/2dL2LFsWawjv7d7sXmvnrUjetd3bgmb/RrLHwG8I2rbeE8AawrzYIb+PnvaXcXw77t/8q+SUukRlf7/Z0vYsWxWrCu/x3u5fxf2/aOkZss3qXBZ75G80aS34Ua9N6SwhvAPtqo/BOPgKXkt9dPkq+7i3M+Xq3p+tdtCjWEt7Gz3bP/ZWnj75k/M3pt74zGYob1dtYFnhfatpbL07m/xKUTestIbwB7KuNwjv9Ea+R/O1pWvKHS4QPfz799W5P17toUUzCex3zAj9X15x60x/7uteEmt02YQT/nF+Xukm93uLAe+rY/iRmZlBuWm8J4Q1gX20W3tmve0983Tr7J0Pnfb3b0/UuWhSrCO8n3cu/UMdc9Gc+7Y/csz9i1lu/3s46gZf7+Py916b/Jvmm9ZYQ3gD21YbhbfzKU2/y69Z/6t74e3u/f2O2T+l6Fy2KNYS38bPdc79jfHA9/eh86telrl1vb73As/4gSOOTd93LT1ntR5vWW0J4A9hXG4a3/XXv0t/hDl79Zfp177lf7/Z0vYsWxQrCezt/n9v6jm75l8hS69YbrB14X7A/Pr97crzTFxslhDeAfbVxeD8out59XRRzdVHvdhxKvQCwBOG9Y7m6qHc7DqVeAFiC8N6xXF3Uux2HUi8ALEF471iuLurdjkOpFwCWILx3LFcX9W7HodQLAEsQ3juWq4t6t+NQ6gWAJQjvHcvVRb3bcSj1AsASBxfe+4p6d6v2egFgCcL7klDvbtVeLwAskQ1vAACwnwhvAAAqQ3gDAFAZwhsAgMoQ3gAAVIbwBgCgMoQ3AACVIbwBAKgM4Q0AQGUIbwAAKkN4AwBQGcIbAIDKEN4AAFSG8AYAoDKENwAAlSG8AQCoDOENAEBlsuF9dPqpu7ifc8etrn3GXVndcRe3brgrxv7LHbuTpu+TY2ubdtWtbsm2ft+uprTtUl3fYYzh+XE+ztzRRNton9Pj5Pkp6+6XzMu1G+58a/Nyudafg+WK1/Emc3h8FvW73ftln23zflymneNLum6AB2neO2+1CAWHGd5jUMf9d8/Zz8tAf5AI73XsLFQJb2PbbhHeeFhsIbzP3En77rNzvrqatum35d6hdnR4h3e1veH48fPnq59MBGtP3NC+pvPVjWH7uE/Pj1fu04bg2NcwRt1OiQIo14dB7uf/L2v1knpbel6a/vvwPjkV50CfxzCGnt23ETzGCwNf67B/1K/RrhlTNx/9tmh+mmtKzp2hnaOhfdx2es7ktdHPTy5U5Tjb/5+5lbymc/tF4+9e3G33fvHy13hy/8htfhxN3aswh80285xk70HRT9jW6MYS12RfT+V7M9ST6yOeo/GFc/R87rwAB2Lz8JY3V7tgjQtOu13u127PvUvtbuiur27RkAtbezMPN3m3fbyp/b5yoZN9eXF/Xd2FhTEsSn3t4zj7RUc9rxfgYKxZ16Mfx+RYu0VMzWl2DtW8hHEM89Ydd6hXn4+2fWZe2m3pQhmPqd+urgP9uBuTPq7oq20v6461+yfX1bh/ec7UHKhz3T4nyTkJbXPzqfm6RL/JnKl5abcn4xLzFNH3iHzc/X+sUz3uxyHrTs5J0n/fRo09Pv/hsf+/OP+RUt3jHA3b1bURn8vM48x1AxySLX9sPn0D+wVALggjsa95PNlfd8PHC4daBPUN3C4C3U2e1q11tXSLQr/wtf2H/3f96JDQxsVOjM1op8lFMl4wGzJMwnMDNS9G27E/PYed/OIXt/f9nJw25ym09edM9KvPcWlM1vlIxl0Uz2+yr5wHIxCL14Pctzif43MDdR2nx5F1x9dw4Ps37xdjHMVtS8ehau+MNZbvIXssHfv6CMrXQnyeO3F/7f6zrxugXrsL73aBaG46w1R4t/2qfTphQdDBEy8W7c1u7t8taOWFpxP6yL3bHp7PLaANuSBGY5pYXOR+8v8tY+EdqXkpLtKhfkOmPr9vd+78vs24ff/9vPht3XG7fsdz02nHnxlTMsaGbJ8Tzak4ZtKfmId2H33uM9d3S85hcT7H5waq3/TYYq7avsexSNb9Yo6juM0fa/449NyOuv2K45bHsra3Ly76/lSd7XFVv8N4jLo9XwvhjYfNjsO7cAMnxn3TfrUZ4V24gaf779s09Zzf6v8NC2hYeJrn449QU2YdYuGyX8TE+yV9FOd1eXiPczhDuA58v+38+eP5/v2/4UWM3a9cVPWYrHmS7bVwbsYXTvExS3NmnvvM9d2Sc1icz/G5geo3Pbao2+i7xBxHcZu4R2aMo9S/Vxy3PJa5vdfW4c/j2Fd7XNXvUEtmjnwthDceNjv+2HxJOIj2bcDl39FOhffUwjO1vSUXlmgcXZ3h+VwAe6UFrlSD3C/po7jILwnvrm2p/pQfe/cNW2E/31/7jU5DjXa/pTFZc5GMe6DPvRdfa8m+ch6Ma6t4Pch9i/M5PjdYEt5qDJNK94i1bek4Ju7B8j3kxxL3XySOVb4WrDmKr7d2/9z5AA7IDsO73x4tAKUFSm7rbsj8YqIXcL1YdH3JAJG1WgtEquujC+l4EWsXk36bPZZOftGxAy6QC2myqBoL70jNy9Qi3c6p3F6uazgvYizdOVbzoPtVj5Mx6flp2+s2ga4xrak8Z2r/dlvTPnc9yH2n5lPz4xD9bvd+Sc/VWEs/J0Nd6vGsceg+Gu15CfWVrmm/Le5/VKrbuJ5UrXqOzMfROIDDtNPw9tobs3kusBciT+/bPR73jQM03OThRg3HSRbloLiI2oba1WIwHFvVpEULYgikoLDAyP2iPjxj4ZWieZmxSI9j6chF1dK1F+PO1RONt1xDS56v5ty0P8ak21htGyfHcdBMz5m8tvof/cpdD3JfY6zmWAbhON0+6XW3yf3iqXsk6rufk7CtOB+5cZTvQX0e5P5hHOb1pPcTdXdzFP84nZ6D+JrN1eSfT18oAIdiXngDwCVIX+AAsBDeAPYG4Q3MQ3gD2BuENzAP4Q0AQGUIbwAAKkN4AwBQGcIbAIDKEN4AAFSG8AYAoDKENwAAlSG8AQCoDOENAEBlCG8AACpDeAMAUBnCGwCAyhDeAABUhvAGAKAyhDcAAJUhvAEAqAzhDQBAZQhvAAAqQ3gDAFAZwhsAgMoQ3gAAVIbwBgCgMoQ3AACVIbwBAKhMNry/eeWZvabrPft/fnev6XqtMe0T6t0tXS8ALEF4XxJdrzWmfUK9u6XrBYAlJsPb2vYg5eqyAnOf6Hprm1/q3Y59rQtAXQjvS6LrrW1+qXc79rUuAHUhvC+Jrre2+aXe7djXugDUhfC+JLre2uaXerdjX+sCUBfC+5LoemubX+rdjn2tC0BdCO9LouutbX6pdzv2tS4AddlOeB+fuYv7n8529+49d/7BmVsdPeeeeMzoryBXlxWYi/3/76laf+1unxnt1qDrXTS/jSurO3Ftt264K0a7TeXqOvR6g0c//5x78bU33Du/uufuXoj6vfa6fdfdfPUF97Xfsfefsm5dACA9kPCO3H7bvfSVx+1+Dbm6rMBcjPDO1nXo9T7yyOfct37wobsray665977wbfdZ82+8pbXBQCpBx/e3idn7ugpo19Dri4rMBcjvLN1HXa9j7tnVx/H9c700eo596jZp21ZXQBg24/wbtx96/qsRTBXlxWYixHe2boOud5Hr7+94B23dsfdfH7zT44AYIkdhfcdt7qWtnv0819yf/D8q+7klmwbNO++Z3z9O1eXFZiLEd7Zug633ifdy78QdfbOT151z//RF8ePxR970j31R9fd6v17SVv/wjPt1za/LgDIu9TwHjz2nFslAX6veQdjtFVydVmBuRjhna3rcOu97t78RNTZuPvTFwqfAn3d/fCjuP2Ssc2vCwDyHkx4N5LFvXFybLeVcnVZgbkY4Z2t63DrPXYnss7G+U+eM9ptx/y6ACCP8JYI72xdh1vvC+7mXVFn62N388WvLvpGtLnm1wUAeXv0sXmzz7NGWyVXlxWYixHe2boOt97H3UtvpV/Hbt3+0L352nX37O9+zthvPfPrAoC8Sw3vz/7uV7tvWLst2/Y+edu9qNpbcnVZgbkY4Z2t66Drffr77j1Zq+WTj907N191z//hkxu9I19UFwBk7Ci8l/voR1ftvpVcXVZgLkZ4Z+s69Hqfaq7h2T8udtEE+erYXVnjt6wtrQsALPsR3r+64Z6d+WtSc3VZgbkY4Z2t69Dr9Z564YZ7L/n6d8HFHXfy8jf4JS0ALt0DD++777zq/mDB7zfP1WUF5mKEd7auQ6939Dl35eiGe+dXovYJH/1g3qdG3vp1AcDo8sP7k3vu7t2P3Ttv3nBHzyz/RqBcXVZgLkZ4Z+s69Hot8o+URGNJfOi+97Tdh7aNugDgUr9hbRtydVmBuRjhna3r0Oud9DtfdM+278jtID9fbfY9GwCwBOEtEd7Zug693iU++8zr6Xennx6bbbVd1gXg4UF4S4R3tq7DrPcb7of6a9vvv+qeMNvGjk7VfoQ3gEtEeEuEd7auQ633+Z/qj8HvuZPjL5ltB0+94t5Rvw/94oTwBnB5CG+J8M7WdbD1/vEb7lzW2Ts/+b578bkvuSeGn4R43D3xj77hnn/1zJ1fpO3feeXJuN+M2XUBQAHhLdUU3gtt+g1Vh1vvk+7oZOq7ySfcfsM9v+HvKQCAJQhvifDO1nXQ9frftb/g57ojFx+7Hz77uN2vYVFdAJBBeEuEd7auQ6/3kce+4V4+WVjzrTP38h/OD25vcV0AYCC8JcI7W9eh1xv4X8xytHq7/Xnuu/qb0i6a52596N65+X334rPr/YGSdesCAGk74X2JcnVZgblPdL21zS/1bse+1gWgLoT3JdH11ja/1Lsd+1oXgLoQ3pdE11vb/FLvduxrXQDqQnhfEl1vbfNLvduxr3UBqAvhfUl0vbXNL/Vux77WBaAuhPcl0fXWNr/Uux37WheAuhDel0TXW9v8Uu927GtdAOoyGd77StdrBeY+0fVaY9on1Ltbul4AWILwviS6XmtM+4R6d0vXCwBLZMMbAADsJ8IbAIDKEN4AAFSG8AYAoDKENwAAlSG8AQCoDOENAEBlCG8AACpDeAMAUBnCGwCAyhDeAABUhvAGAKAyhDcAAJUhvAEAqAzhDQBAZQhvAAAqQ3gDAFCZbHgfnX7qLu7n3HGra59xV1Z33MWtG+6Ksf9yx+6k6fvk2NqmXXWrW7Kt37erKW27jq6W7Niu3XDn6xxv3f2847Oonu3O/WUqn+f2ujs9NrdNK18Hm8xZu6+oa7M6oen5BVA27523Co7goQ3vB4HwnmHb18GI8N4twhtYZgvhfeZOmiAN78rPV1fTNv228I5dbh/pRb0L6GHf4fjx8+ern3RB24sDfXxeLgy+pvPVjWF7GiQT4a3eQc8eY7RfHzSrZm6Hfc/ckbWfn3/VZntz382n3LfrW47d1xpqU+dFLrh+fM1+q/CpTb8tquO0qbn5txzeXZtuH1m3vkZkrfH5tvqPxtWei7Nm/kVtmfMd1d+3SevUx8xdv1o6puSFQT+vVzLzG18f8Xn2fclr3YvqbOchbOvnI1trX5toP1yv/XweyVrkGLxMndb8RvsBSGwe3s0NNywG7c2pbkq5X7s9E1DRIpYGSrygddvHRcjvW1rk4/66uuNFLtYHQW4haReqfn89ptIY5X7JMfrFXi94gToH25z7tq2a22RM7XZdo3rcB0HyQkD0FRb/8dzEku3RuPR51ePU10EsahtCaxhL17d+ARTEcxTqVPM9jDO+3ob2Yn/Jbxvbptee77vdbsyvPu/6cblONeYwJ/K6EaL504+TfdW1MVFn21dmfgCktvyxuVxc7YU0Xqgksa95PNlftzCMi3h8LHMhaBeXbtFK69a6WrJt2r7647WLkAi6ErmfHG+/vViXmpOtzr2Ym27f5h1l0zbU5vcbzoseqxxTND4vDTFr3FIbNtG5k31MzZk9brNtUqt17FG7r9iWtJX9TV6/imzv+2k/UQlt/fj7/8+a37i2pXW27ZPaO8Xr05jP8XqZrlPPL4Cy3YV3ezM3N6fBDBCxb9uv2qcjFzS5iMcLY7somPvvILz7WsIxcqHUivYTc9VvL9alzsH2576vyx+nWUR9/2NgluZN7Jss4OkY03MX8+cuv8in/cU1iVr67VLUNqk1DhOt3VdsS9qK/tq2Ys5Hmdrafcc59uP3/Q/nMluzNb9xrZN1qvG2zyXnOOiOZ45FjCF+zrebrtOqBUDejsM7s1iZxn3LC4g3I7wLC8F0//0ilWuTGVt7XGthC6L90gWtWNfi8F4y913tPjR8v214+j58//5fucAm9Ym5T46bjvGhCe9knkrGOfH9tuPrX0T5f4f5mDW/ca2TdcptjXm1yxesfWC3/RLewGXZ8cfm6Q2bJ9r74+mFIFIO76kFaHqB6mrJtkkWUamrTQdQK9ovnZ9iXUvC2+h7UhsWN5raZX3dNzAN/VjnRY4pmRdrLsq1pQEq+5iaM789d15UW+Mcbiu8p6/flO+/+8YyEYZNratTUeOs+Y1rm6wzuob69uq5PHE+jPkc52G6Tj2/AMp2GN799mgRKy3cclt3s0c3c7QgdtvHfvSi3fUlFwtZa1q31u2fbVNaqK1FzNyWzkWxLnUOtjv3jba2ZsxqjuM+9HlRj4sLePe4XbALdXTbxz7icejj6/PkH2fmvhHNmVFrEnRCu6/YlrSN+tN1NvR1orXb9Vjk40Z2fsVz6nG5zu4Yw33SblPHFJJrTo4p7Dscq5uDoe+JOvX8AijbaXh7YbEOsuGR7NsvXoN44WuP7Z/vb/hwnGQhCkSdad2asXBKahGdPUZj4ZRty3WF+ej23+7ce2ng2PX07UK/2WAYDeeqEX5sKVeLrzn+0SbVX3Rem2tCXZvJdSBE4zFqbffNBchw3O46TNom/ZWv31TXXtY9fYxeG4ThOBNj0n0M4/L6HxXLzYE+90k/d9zJ6Xiuk34KdY51dPNUvhcAzAtvAA+FNjSz4V2Qe2EBYCcIb+Bh1b4Tlp8IpJ/ezEZ4A5eK8AYeYuHLDMFawe0R3sClIrwBAKgM4Q0AQGUIbwAAKkN4AwBQGcIbAIDKEN4AAFSG8AYAoDKENwAAlSG8AQCoDOENAEBlCG8AACpDeAMAUBnCGwCAyhDeAABUhvAGAKAyhDcAAJUhvAEAqAzhDQBAZQhvAAAqQ3gDAFAZwhsAgMoQ3gAAVIbwBgCgMoQ3AACVyYb3N688s9eod7d0vV/84u/tNV2vNaZ9ousFgCUI70tSe71WYO4TXa81pn2i6wWAJSbD29r2IOXqot7tyNVlBeY+0fXWNr8AsAThvWOHUq8VmPtE11vb/ALAEoT3jh1KvVZg7hNdb23zCwBLEN47dij1WoG5T3S9tc0vACxBeO/YodRrBeY+0fXWNr8AsAThvWOHUq8VmPtE11vb/ALAEhuF95XVHXdx/9PI+eqq2dbyldc+TPb/6AdfN9sGubrm1Fv0/Bvurqql8657+QtG+5m2X+/j7olnj93qzXfdR3fvubsXcb13m+c++sXbbnX0nHviMWv/slxdVmBa/t27cT0Xt99yLxrtYtfdX92O97v919eNdnm63iXze3QaH3sdJ8d239qSugAgZ7N33k+/7j7SC9mtG+6K1TbxVfe9D9S+9z903/t9q+0oV9eserMedy+9dU/VMnrnlSeNfebZZr1PvfC6e+eWXaPp4o47efkb7lGjr5xcXVZgWgjvsiV1AUDOhh+bf9398CO9kN1xq2tWW+X3v+/ei/ZrvP+qe8JqK+TqmldvxmPH7kTXIn3wffcVa78ZtlPvl9zzNz+2a5vh/K3vuKfMflO5uqzAtBDeZUvqAoCcjb/m/bUfpKEy56Nz6yPzOe9wc3XNrdfyxCvvJrXEPnY/fNred8rm9T7unl2tH9zBRz+a9+WMXF1WYFoI77IldQFAzubfsGa9g5786Nx6x37mjmZ8jTZX1+x6E0+6P3s/ruX8rbeTLwdMfS0+Z9N6nzg6s78Wf/dj9+Zr192z/+jJ4WPxRz//Dff8q03td4329z90f/ZU2r+Wq8sKTMtBhPfsL/0st6QuAMjZPLzNr11PfHRufK387lvfmfW12Vxd8+tVklr8u2zjxcXtN9y3rP0nbFTvY9fdm5+oOhp3T15xXym90Pmdb7vVr9L9zm9+224v5OqyAtNCeJctqQsAcrYQ3s27w++mH4GXPjpPP2q/59586XGzrZara0m9UlLLR6+7r1nPNy9Ibv6x3UfJJvWaH+e//+q8r18/vc4nIvm6rMC0EN5lS+oCgJythPcjX3h1QVAY72rvvuGeN9umcnUtqnfwbXdThcbw8bj56cB1tf+09etNP85f9rX37jvo79760L1z8/vu5evPuac+P/0CKVeXFZgWwrtsSV0AkLOd8G6C5uVfqAUw99G5EYpzPs4NcnUtq7eX/Gy3/FE148sBn7ztXlr4s9Pr12t8B3z/qYDdfjtydVmBaSG8y5bUBQA5Wwpv+yNe66PzTT+OztW1tF7zZ7vVj4Sl3xE//+P9YO16r91w59Gxm3f+P33BbrtFubqswLQcRHgvtOQXEy2pCwBythbej3zhFfeOXtiSdzDGR+YL303m6lpc72PfSb4Z7L3vqh9Vs74c8ItXJn8WXVq73qOz+LiNJSGxrlxdVmBaCO+yJXUBQM72wrt5J5suguqjc+Mj86U/gpWra2m96ScF1q9Btb7uvOzXpa5d7/Gy8J4XQNO/QCdXlxWYFsK7bEldAJCzxfD+jHt0InDS34U+/etQtVxdy+o1Qjnzjtr6csB7r301aZezdr3X305+vpvwztP1Ts6vQHgDqM1Ww9v6KHr86PyqW+nfy73wI2gvV9eieo1PALK/3c36csCCj/rXrveP0hovTo7ttg3CO653cn6FZO74hjUAe2674W3+gY8+MIxvwFrnD37k6lpSr/UrXZeZ/yNb69dr/IKWwo/U1R3eL7u3fh3vR3gDQN6Ww/sz7tGX7I9704/M5/06VC1X1/x605/tXsfcH29bv17rewgWfrd78mWM3Yf3P/9/fx0fc1Z4v+Z+LvdpEN4AkLf18DbfMd46cyfqI/O5vw5Vy9U1u97s3+1eaOavS92kXuuF0MWvbrhn577oeQDh/T//9LY65m1383+y2w6uv+VuR/t86n7+F0a7Al3vnPkNCG8AtdlBeH/GvZh8dK417yCv2/tOydU1r97y3+1eZt4YNqvX/pTg7gevu2/9jtVeeOyr7sWf6k87dh/eX/zee+qYn7pfv/ua+ydW29b/6P7duxdqnwv31rHVNk/XO29+O4Q3gNrsJLwn390u+HWoWq6uWfUa31A391eeWu+C53x6sFG9jUeN7zpvXdxxJ8lfFfuS+4PnX3Grkw/d+YWxz2WE9zf/b/d+ctzG7ffcj47/F/fMf9+3+/I33T/5X19zb/2dDu7Gf/4b9290vxN0vXPn1yO8AdRmN+H9yAvupvlnKTtLfh2qlqtrTr3pj33dczeft9smrO+kn/HrUjept7Odv+fd+uTMHU38jHquLiswc15MPjpf5j/+dNnXuz1d7/z5NcJ7HTMDf0ldAJCzo/D+jPvWTf2RbTD97q8kV9d0vcbvX1/0Zz7tj9ynvmN+/Xqlz7lv/eDDjb5Wf/f9GR+1N3J1WYGZ9eX/zf34l8Y76jn+4xvun3/Z6HOCrnfJ/BLeAGqzs/B+5I/fSH40rLXhH9fI1TVZ74Z/EKVlfYQ98bPqa9dr+Owzr7gT4+90l5z/4g139MznzP4subqswCz68rfcd0/Vd55PuH36f7l/ukZwe7reJfNLeAOoze7CO/PNVkt/HaqWq2uq3u38fW7jO+knfkvcuvWWfPZrL7iXV2+7d351z91VX9u+e/ee++gXb7vVKy+4P5jxJ0C1XF1WYM7x5X/6v7sfvf2h+7vbF+7X+uvwF81zt3/l3n975Y7/5Gvm/nPpepfML+ENoDY7DO/dyNVFvduRq8sKzH2i661tfgFgCcJ7xw6lXisw94mut7b5BYAlCO8dO5R6rcDcJ7re2uYXAJYgvHfsUOq1AnOf6Hprm18AWILw3rFDqdcKzH2i661tfgFgCcJ7xw6lXisw94mut7b5BYAlCO8dO5R6rcDcJ7re2uYXAJaYDO99Rb27peu1AnOf6HqtMe0TXS8ALEF4X5La67UCc5/oeq0x7RNdLwAskQ1vAACwnwhvAAAqQ3gDAFAZwhsAgMoQ3gAAVIbwBgCgMoQ3AACVIbwBAKgM4Q0AQGUIbwAAKkN4AwBQGcIbAIDKEN4AAFSG8AYAoDKENwAAlSG8AQCoDOENAEBlsuF9dPqpu7ifc8etrn3GXVndcRe3brgrxv7LHbuTpu+TY2ubdtWtbsm2ft+uprTtOrpaLu6fuaPo+e64YfzxPt6SMWzR8VnxPGxyntp9T4/7xw9ofFtQnINrN9z5Vq+fykxcPwD2z7x33pmbm/DeEztcfB+K8H7YEd5AdbYQ3mfupA20zvnqatqm31YOPR0MISh7w/Hj589XP+mDthMH+vj8GEBdTeerG8P2NIzWDW81hvYdXX/8hp6bkd+v6XPVzPPQXh87Hs/Qlz832X06Mrja/5/eUHNo1xWdu3b/fnyn8+uU8x5p65b7qrlrdOcp1JYZ/9BOn0/Z/k5T8zgHYb9B9M7b7zd1LmLJp1RizH6brM0bxpjMQXyuwnPRtqEfeQ32NR+L6y3pIzN/M64fAPtn8/Bubvp4MRoXlWQhMharUbe4dH11ISkX6HaBHBbFbvu40PeLV7SYye1xf13dsr0WFjpd65Lw1jXox1J/vGGu+uOod7w6yKIFOLPge/I8TJ0zrW2v6piqMzfvMd9WHLetQ7b1+4bt5fGn51O1Dy+icnOUhHdpjLH2upT99uMIc9AF+1hbV2u4rrpj6fkyrxF970SP+5rF9rguNR/6se8rNzcA9tKWPzaXi5H/v1xQO907kbCISGJf83iyP73IxceKA6fXLtDd4pbWrXW1bDe8S9K2skazXrl4Tyy+5b7Kdbbts+Fs9F2Y9+j5hrwW/L7nzTv681Cb3y9bc0OMP9ku56Zn9hEY4Z0bY7SfKd6/DVE5J9Gx1PbCXFljGhnnUBxnav6mrh8A+2d34d0uHj7oUlPh3far9umERa8c3u2CaO6fWewTXS3pYrkkvNU4dKhF4v08WWMSAJ5c6CcWX9lXOvb02FLbfjj2jDrDeCN26Ix9+3n1c+r7H89RuE6mxq/HpB+3SnMkgm5qjNF+QttGjDnsn9QeHash6/L/1+MchGsv7r/ja9bX5DiOTa8fAPtnx+GdCznLuO/0YjkjvLOL4Jz+u1o2De+Bn7+2vxmfOvTPyRo3XXxlX8VzNjw3atsPx16jzpJhDL7fbiy+D9//0enE+RTj12NKx9gozVF0rZbHGO0XtjXtx2sl3j+pPbkvfPvucRj70Daj7bM9pqxZ9hmeC3NZnj/CG6jPjj82n7cYdUT7NuzCYmgph3dpsZ2zXb7LicK2rcs/n6utPOb8cdP9ZFtzPzlHE4tvua8ZNc8Mb7POIj/PzXnz3xzWH8P30X6Dl+jH7FeMP9luXD/F2tYOb30devH+0+Hdtem+qa10zWvdsbvr0ziH4jhT8zd1/QDYPzsM7357tCAZi4y5rQ9PuehFC7JeNP2+ckHs+pLBK2vNL8ajrvYuwBP6XcxAjkGPVS624blAt9U16vGoxxOLb3ns6bGltv3M8E7rtI4XC+8io7GoPqbGnx5DzXUbZM1xcnVsGN5jXf11K/afE95hzPnrqhFd/w2jZlljfNzy/E1dPwD2z07D2wuLc5ALiXTffkEaxO9K2mP75/sFKgmBsGAHos6pQBmERVUYF0CLGoPeP7s4p/OWm1u7jrBNhUJP9jXnnEWGefTzP6POwryb2jlKX3il9eTHb59P2f6seXdvtekZQVg+F4Ia78lxH+DyupTnPTpWkBtzLH8v9fvLH+ErzsfE9dOek/h+A7Bf5oU3gB3y4blJWM4LfwCHg/AGHjT/Tjf7qcwchDfwsCG8gQcmfI1804+oCW/gYUN4AwBQGcIbAIDKEN4AAFSG8AYAoDKENwAAlSG8AQCoDOENAEBlCG8AACpDeAMAUBnCGwCAyhDeAABUhvAGAKAyhDcAAJUhvAEAqAzhDQBAZQhvAAAqQ3gDAFAZwhsAgMoQ3gAAVIbwBgCgMoQ3AACVIbwBAKgM4Q0AQGUIbwAAKpMN7y9+8fcAAMCGrIzdFO+8AQCoDOENAEBlCG8AACpDeAMAUBnCGwCAyhDeAABUhvAGAKAyhDcAAJUhvAEAqAzhDQBAZQhvAAAqQ3gDAFAZwhsAgMoQ3gAAVIbwBgCgMoQ3AACVIbwBAKjMrPC+srrjLu5/2jo5tts8cMdnXY2nx+Nz1264877u89XV2W0HcnuuTXDrhrsy2e6OW10T/T1y7E7a58/c0fBcTM59Kr/fXKH/MD/68dFpd6zceZ/avlfCeQnnSj+eMDnWhf1dqq3U1l+vWxqfvtYAzDcjvK+61a1u0WrpQNsXxuIUBZ/x/LBohDA3iYAMx8gJczPRblz8H3x4awcd3trCQCO8CW9gX0yH9/Au9WwyaLzxhrzRt/dy7zh7wwuCNMzCgjne4LkFJLzIGI8V9u2EPnW7sZZ4ETGezy6Aqu5MuzGIQy3peLXlC1zaZ2kOX1b9rx3ezflux9xS4wnz0SuPRb1YlO37azHaX3+KkrwQE7Xo85Kcp8KxG5Njtc77orHLa8SbuG8a8XlR9Vt1+OfEHE3VI++hk+Pxugn9xvWKbfq8WM/1j6dqAJCaDG+5eE8t5F5yMwfDDZ8uQF64gbtjhEVLLEZqUbBu+Li+caE56muKng+LrrXIBMPC27e1FueW6jPbLvfCQQSAsjy8l82h7l8/njrnYXsiHEuFV7CsPzVfYl6j+jLHGs6tPi/qcfnYC8a65tjteydcG+kLi1nbJ2qR45tXTyP0Ge4dpbt20ms7Oldi/9x8AMibCO8FQdcbbvhk0Yj7GMMoLDrG9mjB6bZ3C4C94ETBI2u1+uzHoMMqpmrLLoCdoY/QLsyBEC9g88PblDsPC+ZQj18/ThZcJWwfawljivsf908DuEQfX9Y+OX/6PEw9VuxjNzJj1f0tG7u61rzkXpFC+/7Y4Xof+lbbh+sgzF06vlgYm9ieHEMJ2/v5mTxXfU328QGUlMNb3YyTi2VDL/56UQrbU2qR8cfsj39y2v97bCxwklg8zXfb4vlcWMXU8YYFUBsXxJaoQy9y8YI5fz5Nw3lRFsyhHr9+XF7g9QItn+v2Cf9P5cfs6XEPx+/H09Yn/x/tPwZPK5wHfV4y5yl37Kmx6v6WjV3VLKnzHPfb1aPPW8IYa9jHPLfm3Iz3kZyvoW0Q6pXnJ7SRY2mfU/cOgFmK4Z1ffPKLRLqIzA3vsIiM7U/a4zf79Tf+eRNAyQIQCQvgHXcehXzoMzwvFox+gTH7HBalvp/wOCxew3Y1H7rdYKyjO/788M4uyqb5c6j714+jcBr6H1nb5XP5a8hetHV/af9jgKzabaKf3PmZ+Xjq2Gkt6rlMfylr7IXwbvvT1078ePI60WNvhH3keErtk/DW905yL43t4xfTgd9uXwcAyvLhHW7enOimHqWLyBgkbUBl3y2NQh/jcUIfHXOx6UULpqgx6jMKy3HRjGsSi2lYjKwFLSxYpRDRbYfnwzG2Hd7z51D3rx9bgSUN860XbBUqpXM20vMx1iz3nzrHw1zp+dbnJXo8feypser+l41d3Sdack2pYw/X4bh/dO6Ma7JcX+h/3B7ahz70tTFsH+ZHnavCdQ5gmWx4WzdiRy0a0bZxvzFs9KI0LgoRsagMC01Dh8jUAjDULfZtiT6jY3nDwmcRxzMWQG+oLTwvj2UYF8vMXLS648rxpOxz0Jo5h/p86cd6gdbixVmYmovkuvLy8xEd3xibl50rXYv5ePrYs8e61tjz9bfHz/U1XAPxi7NBrjZxvNy5nZrP7HzI8cl7S41bX2sA5suEt/2OJwg3rXXTpTek9Y5CL5Q6kMftw/GTd60ZwyKng23s01wsrMVRL7LGAthRfU8utOl+qQ3De+Yc6vOlH88N7yU/KlY8h3Kx9+3CvtG5CNeUHn8cYL7mrr6+nT5/+vHEsSfHqvuTzwVym0Gfb3mtRtt8TX29Yxsd4OXaQn+5c+uFMXfH6X/8c+hDXr9+jsv3uj6OvtYAzFf+hjUA2EgIb/WCDsBGCG8AuxM+zdCfYgHYCOENYAfkR/i86wa2jfAGAKAyhDcAAJUhvAEAqAzhDQBAZQhvAAAqQ3gDAFAZwhsAgMoQ3gAAVIbwBgCgMoQ3AACVIbwBAKjKZ9x/AY9MR/LSS41kAAAAAElFTkSuQmCC)\n"
      ],
      "metadata": {
        "id": "8cSQEg5fUzER"
      }
    },
    {
      "cell_type": "markdown",
      "source": [
        "It's not technically necessary to use the information revealed by the color of the tiles. For instance, in the \"Pills\" guess above, you're not required to use an \"I\" in your next guess, even though you know the correct solution contains an \"I\". It can actually be more advantageous in some cases to ignore this information to rule out as many potential words as possible. If you play the game on **hard mode**, however, you are **required** to use the feedback from each guess to inform your next guesses. My bot plays on hard mode."
      ],
      "metadata": {
        "id": "JUJ9A3JmVtFy"
      }
    },
    {
      "cell_type": "markdown",
      "source": [
        "## Related Work"
      ],
      "metadata": {
        "id": "C80bgdI9_p9i"
      }
    },
    {
      "cell_type": "markdown",
      "source": [
        "A quick scan of the blogosphere revealed that I wasn't the only one intrigued by using Data Science to tackle the Wordle challenge.\n",
        "\n",
        "* Matt Rickard [described a greedy approach](https://matt-rickard.com/wordle-whats-the-best-starting-word/) to determine the \"best\" starting guess for Wordle based on eliminating as many answer choices as possible (he landed on \"SOARE\", which I didn't even know was a word). \n",
        "* Fellow Georgia Techie Mark Scherschel II [proposed using pairwise distances to measure word centrality](https://medium.com/@schersch/an-informed-first-wordle-d2b3f001cd1a), choosing \"TARES\" as the best starting word choice due to its relative proximity to other words.\n",
        "\n",
        "I wanted to incorporate and extend these ideas in my bot's design to build an autonomous agent, focusing less on the **best first word** and more on a **policy** governing the **best next guess** to  navigate from one state of play to the next. Ideally, this agent would learn from its experiences and improve its performance as it played more and more games."
      ],
      "metadata": {
        "id": "zB9mQHEd8FOC"
      }
    },
    {
      "cell_type": "markdown",
      "source": [
        "## Methods"
      ],
      "metadata": {
        "id": "iuHqlyjQ_-lC"
      }
    },
    {
      "cell_type": "markdown",
      "source": [
        "### Source Data"
      ],
      "metadata": {
        "id": "d6rUflj4Gfi7"
      }
    },
    {
      "cell_type": "markdown",
      "source": [
        "While there are more than 12,000 5-letter words in the English language, many of them are archaic or esoteric. The creator of Wordle limited the answer bank to ~2,300 commonly used words in everyday language. I manually copied the 2,300-word bank from the Wordle source code to train my bot."
      ],
      "metadata": {
        "id": "rSmOvdiuA4Mz"
      }
    },
    {
      "cell_type": "markdown",
      "source": [
        "### Word Similarity Graph"
      ],
      "metadata": {
        "id": "45OBhEjhG9cb"
      }
    },
    {
      "cell_type": "markdown",
      "source": [
        "The set of feasible words is organized in an undirected [graph data structure](https://en.wikipedia.org/wiki/Graph_(abstract_data_type). Each \"node\" or \"vertex\" is a word, and each \"edge\" or \"link\" between words is weighted by a simple similarity score. The score is composed of 1 point for each common letter between two words and an additional point if the common letter is also in the same position in the word."
      ],
      "metadata": {
        "id": "Ho3WrscGW6Ha"
      }
    },
    {
      "cell_type": "markdown",
      "source": [
        "Pairwise similarity scores are computed for all words in the smaller answer bank and stored in a symmetric adjacency matrix."
      ],
      "metadata": {
        "id": "dLcU24C_X_nZ"
      }
    },
    {
      "cell_type": "markdown",
      "source": [
        "### Spectral Clustering"
      ],
      "metadata": {
        "id": "LLl7ooEqHDVx"
      }
    },
    {
      "cell_type": "markdown",
      "source": [
        "Spectral Clustering is used to partition the graph into $k$ \"communities\" (groups of similar nodes). I used a $k$ value of 5. I'll not delve too deeply into the weeds for this post, but if you haven't come across this algorithm, you can think of it as K-Means for similarity graphs. For those interested in reading further, [check out this Wikipedia post](https://en.wikipedia.org/wiki/Spectral_clustering) (good jumping off point)."
      ],
      "metadata": {
        "id": "HZm_yDxaaphY"
      }
    },
    {
      "cell_type": "markdown",
      "source": [
        "### Q Learning"
      ],
      "metadata": {
        "id": "zBV6S8P7HK_C"
      }
    },
    {
      "cell_type": "markdown",
      "source": [
        "Q Learning is a form of Reinforcement Learning that seeks to learn a policy $\\pi$ based on experiences (in the form of transitions between states, actions, and resulting rewards). One challenge in Q Learning is to define a discrete state space such that an agent can gain sufficient experience through experimentation to learn the \"best\" action in a given situation to maximize expected reward. Another challenge is to establish a reward system that effectively balances short-term and long-term rewards (e.g., it's easier to train a bot to eat a candy bar than to save for college)."
      ],
      "metadata": {
        "id": "xh3FQ4czcqqP"
      }
    },
    {
      "cell_type": "markdown",
      "source": [
        "In this exercise, I define state by discretizing the distribution of nodes among the $k$ communities. With $k=5$, this resulted in 126 possible states."
      ],
      "metadata": {
        "id": "V-iwiyNVd0LH"
      }
    },
    {
      "cell_type": "markdown",
      "source": [
        "Actions were defined as **which community** the bot should choose its next word guess from."
      ],
      "metadata": {
        "id": "2K82MxKkfOew"
      }
    },
    {
      "cell_type": "markdown",
      "source": [
        "Rewards were defined as the sum of the following 3 components: a shrinkage factor ($s$), a correctness factor ($c$), and a winning bonus ($b$).\n",
        "\n",
        "The shrinkage factor is given by:\n",
        "$$\n",
        "s=\\frac{feasible \\ nodes \\  before \\ guess}{feasible \\ nodes \\ after \\ guess}\n",
        "$$\n",
        "\n",
        "The correctness factor is defined as 2 points for each green letter (correct letter in the correct position), 1 point for each yellow letter (correct letter, wrong position), and 0 points for each grey letter (letter not in the correct word).\n",
        "\n",
        "The bot earns a big bonus of 1,000 points for each winning guess."
      ],
      "metadata": {
        "id": "d1viLb9gfY3v"
      }
    },
    {
      "cell_type": "markdown",
      "source": [
        "### Overall Strategy"
      ],
      "metadata": {
        "id": "GVc25KIHHSrp"
      }
    },
    {
      "cell_type": "markdown",
      "source": [
        "For each game, a Grader class randomly selects a word from the bank of 2,315 common 5-letter words. The bot then uses an iterative approach to make guesses. In each iteration, the bot performs the following operations:\n",
        "\n",
        "* partitions the graph using spectral clustering on the set of remaining feasible words\n",
        "* discretizes the distribution of words among clusters\n",
        "* uses the Q Learner to select a cluster from which to draw the next guess\n",
        "* chooses the guess as the \"centroid\" of the chosen cluster (word having the highest total similarity score within the cluster)\n",
        "* passes the guess to the Grader class which evaluates the guess and returns feedback in the form of a vector of scores for each letter (2 for green, 1 for yellow, 0 for grey)\n",
        "* filters the graph to exclude infeasible words based on feedback from the grader\n",
        "* calculates a reward to pass to the Q Learner in the next iteration\n",
        "\n",
        "The bot terminates its iterations when it guesses the correct word.\n",
        "\n",
        "With this strategy, I make the bot play 1,000 games and record the guess count for each."
      ],
      "metadata": {
        "id": "8kEOqLAliBmv"
      }
    },
    {
      "cell_type": "markdown",
      "source": [
        "## Performance"
      ],
      "metadata": {
        "id": "wq8dOSYmAFbS"
      }
    },
    {
      "cell_type": "markdown",
      "source": [
        "Over the 1,000 games, the bot achieves an average guess count of 3.767. It \"loses\" 8 times (needing more than 6 guesses to identify the correct word) for an overall win rate of 99.2%. Here's a chart showing the bot's performance over its 1,000-game epoch.\n",
        "\n",
        "![Wordle_Performance.PNG](data:image/png;base64,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)"
      ],
      "metadata": {
        "id": "ZlruKsJ-aD3B"
      }
    },
    {
      "cell_type": "markdown",
      "source": [
        "## Conclusions"
      ],
      "metadata": {
        "id": "tf-vVxJZALii"
      }
    },
    {
      "cell_type": "markdown",
      "source": [
        "I was pleasantly surprised with my bot's performance in general. My own Wordle average hovers between 3 and 4, so the bot can definitely hold its own against a human!"
      ],
      "metadata": {
        "id": "8lsj-eGjl7Rm"
      }
    },
    {
      "cell_type": "markdown",
      "source": [
        "That said, there's plenty of room for improvement. Calculating and storing similarity scores is by far the least computationally efficient part of my bot's current design, as it requires 5,359,225 pairwise similarity scores to be computed for the 2,315 words. Since the graph is symmetric, technically the ~5 million similarity computations could be halved to ~2.5 million. Because the scores never change, they really only ever need to be computed once (while my current design recomputes scores unnecessarily out of expedience). The entire simulation takes about 45 minutes to run in a Google Colab environment, and I'm confident this runtime could be substantially decreased with some refactoring.\n",
        "\n",
        "Additionally, there are many parameters which could be tuned. For example, I arbitrarily set the number of communities to 5 for this exercise and achieved results that were good enough for me, but there may be some other optimal number of communities. \n",
        "\n",
        "Lastly, I suspect the Q Learning part of the bot may be overkill. I didn't observe the reduction in the number of guesses per game I expected to see as the bot gained experience, suggesting there wasn't much of a \"convergence\" happening. For a fun short project though, I'm really pleased with how it all turned out."
      ],
      "metadata": {
        "id": "0uPRdLeNaOFP"
      }
    },
    {
      "cell_type": "markdown",
      "source": [
        "## Appendix: Code"
      ],
      "metadata": {
        "id": "6sfIjgcBA8AR"
      }
    },
    {
      "cell_type": "markdown",
      "source": [
        "### Setup"
      ],
      "metadata": {
        "id": "Kg9YPOHrnUtC"
      }
    },
    {
      "cell_type": "code",
      "source": [
        "import numpy as np\n",
        "import random\n",
        "import matplotlib.pyplot as plt\n",
        "from scipy.sparse import csr_matrix\n",
        "from sklearn.cluster import SpectralClustering"
      ],
      "metadata": {
        "id": "QCgl7R1JnG6E"
      },
      "execution_count": null,
      "outputs": []
    },
    {
      "cell_type": "code",
      "source": [
        "def count_states(m,n):\n",
        "  return np.math.factorial(m+n-1)/(np.math.factorial(n-1)*np.math.factorial(m))\n",
        "\n",
        "count_states(5,5)"
      ],
      "metadata": {
        "colab": {
          "base_uri": "https://localhost:8080/"
        },
        "id": "rJ-HczWEm5bc",
        "outputId": "f21a29e8-6228-4338-f504-6bf14515cfc1"
      },
      "execution_count": null,
      "outputs": [
        {
          "output_type": "execute_result",
          "data": {
            "text/plain": [
              "126.0"
            ]
          },
          "metadata": {},
          "execution_count": 2
        }
      ]
    },
    {
      "cell_type": "markdown",
      "source": [
        "### Interpreter Class"
      ],
      "metadata": {
        "id": "B659sXvLnY0J"
      }
    },
    {
      "cell_type": "markdown",
      "source": [
        "The below cell defines an Interpreter class with the following responsibilities:\n",
        "* Initialize the starting word bank\n",
        "* Perform spectal clustering on the word bank to partition it into communities of similar words\n",
        "* Translate the distribution of words within clusters into a discrete state using $k$ quantiles\n",
        "* Pass the discrete state label to a Q Learner class along with the reward from the learner's previous action (quantile guess)\n",
        "* Based on the Q Learner's chosen quantile, choose the word having the highest total similarity score within the quantile as the bot's next guess\n",
        "* Pass word guesses to a Grader class\n",
        "* Use information returned from the Grader class to filter the word bank, compute a reward, and repeat the above steps until convergence"
      ],
      "metadata": {
        "id": "HpSLEi-EncJx"
      }
    },
    {
      "cell_type": "markdown",
      "source": [
        "I manually copied the answer bank below from the Wordle source code. \n",
        "\n",
        "**Spoiler alert - the answers are listed in date order, so don't look too closely at the world list if you don't want to spoil the game for yourself.**"
      ],
      "metadata": {
        "id": "ks5_C5GmAvnp"
      }
    },
    {
      "cell_type": "code",
      "source": [
        "class Interpreter():\n",
        "  def __init__(self, k=5):\n",
        "    self.words_full=[\"cigar\",\"rebut\",\"sissy\",\"humph\",\"awake\",\"blush\",\"focal\",\"evade\",\"naval\",\"serve\",\"heath\",\"dwarf\",\"model\",\"karma\",\"stink\",\"grade\",\"quiet\",\"bench\",\"abate\",\"feign\",\"major\",\"death\",\"fresh\",\"crust\",\"stool\",\"colon\",\"abase\",\"marry\",\"react\",\"batty\",\"pride\",\"floss\",\"helix\",\"croak\",\"staff\",\"paper\",\"unfed\",\"whelp\",\"trawl\",\"outdo\",\"adobe\",\"crazy\",\"sower\",\"repay\",\"digit\",\"crate\",\"cluck\",\"spike\",\"mimic\",\"pound\",\"maxim\",\"linen\",\"unmet\",\"flesh\",\"booby\",\"forth\",\"first\",\"stand\",\"belly\",\"ivory\",\"seedy\",\"print\",\"yearn\",\"drain\",\"bribe\",\"stout\",\"panel\",\"crass\",\"flume\",\"offal\",\"agree\",\"error\",\"swirl\",\"argue\",\"bleed\",\"delta\",\"flick\",\"totem\",\"wooer\",\"front\",\"shrub\",\"parry\",\"biome\",\"lapel\",\"start\",\"greet\",\"goner\",\"golem\",\"lusty\",\"loopy\",\"round\",\"audit\",\"lying\",\"gamma\",\"labor\",\"islet\",\"civic\",\"forge\",\"corny\",\"moult\",\"basic\",\"salad\",\"agate\",\"spicy\",\"spray\",\"essay\",\"fjord\",\"spend\",\"kebab\",\"guild\",\"aback\",\"motor\",\"alone\",\"hatch\",\"hyper\",\"thumb\",\"dowry\",\"ought\",\"belch\",\"dutch\",\"pilot\",\"tweed\",\"comet\",\"jaunt\",\"enema\",\"steed\",\"abyss\",\"growl\",\"fling\",\"dozen\",\"boozy\",\"erode\",\"world\",\"gouge\",\"click\",\"briar\",\"great\",\"altar\",\"pulpy\",\"blurt\",\"coast\",\"duchy\",\"groin\",\"fixer\",\"group\",\"rogue\",\"badly\",\"smart\",\"pithy\",\"gaudy\",\"chill\",\"heron\",\"vodka\",\"finer\",\"surer\",\"radio\",\"rouge\",\"perch\",\"retch\",\"wrote\",\"clock\",\"tilde\",\"store\",\"prove\",\"bring\",\"solve\",\"cheat\",\"grime\",\"exult\",\"usher\",\"epoch\",\"triad\",\"break\",\"rhino\",\"viral\",\"conic\",\"masse\",\"sonic\",\"vital\",\"trace\",\"using\",\"peach\",\"champ\",\"baton\",\"brake\",\"pluck\",\"craze\",\"gripe\",\"weary\",\"picky\",\"acute\",\"ferry\",\"aside\",\"tapir\",\"troll\",\"unify\",\"rebus\",\"boost\",\"truss\",\"siege\",\"tiger\",\"banal\",\"slump\",\"crank\",\"gorge\",\"query\",\"drink\",\"favor\",\"abbey\",\"tangy\",\"panic\",\"solar\",\"shire\",\"proxy\",\"point\",\"robot\",\"prick\",\"wince\",\"crimp\",\"knoll\",\"sugar\",\"whack\",\"mount\",\"perky\",\"could\",\"wrung\",\"light\",\"those\",\"moist\",\"shard\",\"pleat\",\"aloft\",\"skill\",\"elder\",\"frame\",\"humor\",\"pause\",\"ulcer\",\"ultra\",\"robin\",\"cynic\",\"agora\",\"aroma\",\"caulk\",\"shake\",\"pupal\",\"dodge\",\"swill\",\"tacit\",\"other\",\"thorn\",\"trove\",\"bloke\",\"vivid\",\"spill\",\"chant\",\"choke\",\"rupee\",\"nasty\",\"mourn\",\"ahead\",\"brine\",\"cloth\",\"hoard\",\"sweet\",\"month\",\"lapse\",\"watch\",\"today\",\"focus\",\"smelt\",\"tease\",\"cater\",\"movie\",\"lynch\",\"saute\",\"allow\",\"renew\",\"their\",\"slosh\",\"purge\",\"chest\",\"depot\",\"epoxy\",\"nymph\",\"found\",\"shall\",\"harry\",\"stove\",\"lowly\",\"snout\",\"trope\",\"fewer\",\"shawl\",\"natal\",\"fibre\",\"comma\",\"foray\",\"scare\",\"stair\",\"black\",\"squad\",\"royal\",\"chunk\",\"mince\",\"slave\",\"shame\",\"cheek\",\"ample\",\"flair\",\"foyer\",\"cargo\",\"oxide\",\"plant\",\"olive\",\"inert\",\"askew\",\"heist\",\"shown\",\"zesty\",\"hasty\",\"trash\",\"fella\",\"larva\",\"forgo\",\"story\",\"hairy\",\"train\",\"homer\",\"badge\",\"midst\",\"canny\",\"fetus\",\"butch\",\"farce\",\"slung\",\"tipsy\",\"metal\",\"yield\",\"delve\",\"being\",\"scour\",\"glass\",\"gamer\",\"scrap\",\"money\",\"hinge\",\"album\",\"vouch\",\"asset\",\"tiara\",\"crept\",\"bayou\",\"atoll\",\"manor\",\"creak\",\"showy\",\"phase\",\"froth\",\"depth\",\"gloom\",\"flood\",\"trait\",\"girth\",\"piety\",\"payer\",\"goose\",\"float\",\"donor\",\"atone\",\"primo\",\"apron\",\"blown\",\"cacao\",\"loser\",\"input\",\"gloat\",\"awful\",\"brink\",\"smite\",\"beady\",\"rusty\",\"retro\",\"droll\",\"gawky\",\"hutch\",\"pinto\",\"gaily\",\"egret\",\"lilac\",\"sever\",\"field\",\"fluff\",\"hydro\",\"flack\",\"agape\",\"wench\",\"voice\",\"stead\",\"stalk\",\"berth\",\"madam\",\"night\",\"bland\",\"liver\",\"wedge\",\"augur\",\"roomy\",\"wacky\",\"flock\",\"angry\",\"bobby\",\"trite\",\"aphid\",\"tryst\",\"midge\",\"power\",\"elope\",\"cinch\",\"motto\",\"stomp\",\"upset\",\"bluff\",\"cramp\",\"quart\",\"coyly\",\"youth\",\"rhyme\",\"buggy\",\"alien\",\"smear\",\"unfit\",\"patty\",\"cling\",\"glean\",\"label\",\"hunky\",\"khaki\",\"poker\",\"gruel\",\"twice\",\"twang\",\"shrug\",\"treat\",\"unlit\",\"waste\",\"merit\",\"woven\",\"octal\",\"needy\",\"clown\",\"widow\",\"irony\",\"ruder\",\"gauze\",\"chief\",\"onset\",\"prize\",\"fungi\",\"charm\",\"gully\",\"inter\",\"whoop\",\"taunt\",\"leery\",\"class\",\"theme\",\"lofty\",\"tibia\",\"booze\",\"alpha\",\"thyme\",\"eclat\",\"doubt\",\"parer\",\"chute\",\"stick\",\"trice\",\"alike\",\"sooth\",\"recap\",\"saint\",\"liege\",\"glory\",\"grate\",\"admit\",\"brisk\",\"soggy\",\"usurp\",\"scald\",\"scorn\",\"leave\",\"twine\",\"sting\",\"bough\",\"marsh\",\"sloth\",\"dandy\",\"vigor\",\"howdy\",\"enjoy\",\"valid\",\"ionic\",\"equal\",\"unset\",\"floor\",\"catch\",\"spade\",\"stein\",\"exist\",\"quirk\",\"denim\",\"grove\",\"spiel\",\"mummy\",\"fault\",\"foggy\",\"flout\",\"carry\",\"sneak\",\"libel\",\"waltz\",\"aptly\",\"piney\",\"inept\",\"aloud\",\"photo\",\"dream\",\"stale\",\"vomit\",\"ombre\",\"fanny\",\"unite\",\"snarl\",\"baker\",\"there\",\"glyph\",\"pooch\",\"hippy\",\"spell\",\"folly\",\"louse\",\"gulch\",\"vault\",\"godly\",\"threw\",\"fleet\",\"grave\",\"inane\",\"shock\",\"crave\",\"spite\",\"valve\",\"skimp\",\"claim\",\"rainy\",\"musty\",\"pique\",\"daddy\",\"quasi\",\"arise\",\"aging\",\"valet\",\"opium\",\"avert\",\"stuck\",\"recut\",\"mulch\",\"genre\",\"plume\",\"rifle\",\"count\",\"incur\",\"total\",\"wrest\",\"mocha\",\"deter\",\"study\",\"lover\",\"safer\",\"rivet\",\"funny\",\"smoke\",\"mound\",\"undue\",\"sedan\",\"pagan\",\"swine\",\"guile\",\"gusty\",\"equip\",\"tough\",\"canoe\",\"chaos\",\"covet\",\"human\",\"udder\",\"lunch\",\"blast\",\"stray\",\"manga\",\"melee\",\"lefty\",\"quick\",\"paste\",\"given\",\"octet\",\"risen\",\"groan\",\"leaky\",\"grind\",\"carve\",\"loose\",\"sadly\",\"spilt\",\"apple\",\"slack\",\"honey\",\"final\",\"sheen\",\"eerie\",\"minty\",\"slick\",\"derby\",\"wharf\",\"spelt\",\"coach\",\"erupt\",\"singe\",\"price\",\"spawn\",\"fairy\",\"jiffy\",\"filmy\",\"stack\",\"chose\",\"sleep\",\"ardor\",\"nanny\",\"niece\",\"woozy\",\"handy\",\"grace\",\"ditto\",\"stank\",\"cream\",\"usual\",\"diode\",\"valor\",\"angle\",\"ninja\",\"muddy\",\"chase\",\"reply\",\"prone\",\"spoil\",\"heart\",\"shade\",\"diner\",\"arson\",\"onion\",\"sleet\",\"dowel\",\"couch\",\"palsy\",\"bowel\",\"smile\",\"evoke\",\"creek\",\"lance\",\"eagle\",\"idiot\",\"siren\",\"built\",\"embed\",\"award\",\"dross\",\"annul\",\"goody\",\"frown\",\"patio\",\"laden\",\"humid\",\"elite\",\"lymph\",\"edify\",\"might\",\"reset\",\"visit\",\"gusto\",\"purse\",\"vapor\",\"crock\",\"write\",\"sunny\",\"loath\",\"chaff\",\"slide\",\"queer\",\"venom\",\"stamp\",\"sorry\",\"still\",\"acorn\",\"aping\",\"pushy\",\"tamer\",\"hater\",\"mania\",\"awoke\",\"brawn\",\"swift\",\"exile\",\"birch\",\"lucky\",\"freer\",\"risky\",\"ghost\",\"plier\",\"lunar\",\"winch\",\"snare\",\"nurse\",\"house\",\"borax\",\"nicer\",\"lurch\",\"exalt\",\"about\",\"savvy\",\"toxin\",\"tunic\",\"pried\",\"inlay\",\"chump\",\"lanky\",\"cress\",\"eater\",\"elude\",\"cycle\",\"kitty\",\"boule\",\"moron\",\"tenet\",\"place\",\"lobby\",\"plush\",\"vigil\",\"index\",\"blink\",\"clung\",\"qualm\",\"croup\",\"clink\",\"juicy\",\"stage\",\"decay\",\"nerve\",\"flier\",\"shaft\",\"crook\",\"clean\",\"china\",\"ridge\",\"vowel\",\"gnome\",\"snuck\",\"icing\",\"spiny\",\"rigor\",\"snail\",\"flown\",\"rabid\",\"prose\",\"thank\",\"poppy\",\"budge\",\"fiber\",\"moldy\",\"dowdy\",\"kneel\",\"track\",\"caddy\",\"quell\",\"dumpy\",\"paler\",\"swore\",\"rebar\",\"scuba\",\"splat\",\"flyer\",\"horny\",\"mason\",\"doing\",\"ozone\",\"amply\",\"molar\",\"ovary\",\"beset\",\"queue\",\"cliff\",\"magic\",\"truce\",\"sport\",\"fritz\",\"edict\",\"twirl\",\"verse\",\"llama\",\"eaten\",\"range\",\"whisk\",\"hovel\",\"rehab\",\"macaw\",\"sigma\",\"spout\",\"verve\",\"sushi\",\"dying\",\"fetid\",\"brain\",\"buddy\",\"thump\",\"scion\",\"candy\",\"chord\",\"basin\",\"march\",\"crowd\",\"arbor\",\"gayly\",\"musky\",\"stain\",\"dally\",\"bless\",\"bravo\",\"stung\",\"title\",\"ruler\",\"kiosk\",\"blond\",\"ennui\",\"layer\",\"fluid\",\"tatty\",\"score\",\"cutie\",\"zebra\",\"barge\",\"matey\",\"bluer\",\"aider\",\"shook\",\"river\",\"privy\",\"betel\",\"frisk\",\"bongo\",\"begun\",\"azure\",\"weave\",\"genie\",\"sound\",\"glove\",\"braid\",\"scope\",\"wryly\",\"rover\",\"assay\",\"ocean\",\"bloom\",\"irate\",\"later\",\"woken\",\"silky\",\"wreck\",\"dwelt\",\"slate\",\"smack\",\"solid\",\"amaze\",\"hazel\",\"wrist\",\"jolly\",\"globe\",\"flint\",\"rouse\",\"civil\",\"vista\",\"relax\",\"cover\",\"alive\",\"beech\",\"jetty\",\"bliss\",\"vocal\",\"often\",\"dolly\",\"eight\",\"joker\",\"since\",\"event\",\"ensue\",\"shunt\",\"diver\",\"poser\",\"worst\",\"sweep\",\"alley\",\"creed\",\"anime\",\"leafy\",\"bosom\",\"dunce\",\"stare\",\"pudgy\",\"waive\",\"choir\",\"stood\",\"spoke\",\"outgo\",\"delay\",\"bilge\",\"ideal\",\"clasp\",\"seize\",\"hotly\",\"laugh\",\"sieve\",\"block\",\"meant\",\"grape\",\"noose\",\"hardy\",\"shied\",\"drawl\",\"daisy\",\"putty\",\"strut\",\"burnt\",\"tulip\",\"crick\",\"idyll\",\"vixen\",\"furor\",\"geeky\",\"cough\",\"naive\",\"shoal\",\"stork\",\"bathe\",\"aunty\",\"check\",\"prime\",\"brass\",\"outer\",\"furry\",\"razor\",\"elect\",\"evict\",\"imply\",\"demur\",\"quota\",\"haven\",\"cavil\",\"swear\",\"crump\",\"dough\",\"gavel\",\"wagon\",\"salon\",\"nudge\",\"harem\",\"pitch\",\"sworn\",\"pupil\",\"excel\",\"stony\",\"cabin\",\"unzip\",\"queen\",\"trout\",\"polyp\",\"earth\",\"storm\",\"until\",\"taper\",\"enter\",\"child\",\"adopt\",\"minor\",\"fatty\",\"husky\",\"brave\",\"filet\",\"slime\",\"glint\",\"tread\",\"steal\",\"regal\",\"guest\",\"every\",\"murky\",\"share\",\"spore\",\"hoist\",\"buxom\",\"inner\",\"otter\",\"dimly\",\"level\",\"sumac\",\"donut\",\"stilt\",\"arena\",\"sheet\",\"scrub\",\"fancy\",\"slimy\",\"pearl\",\"silly\",\"porch\",\"dingo\",\"sepia\",\"amble\",\"shady\",\"bread\",\"friar\",\"reign\",\"dairy\",\"quill\",\"cross\",\"brood\",\"tuber\",\"shear\",\"posit\",\"blank\",\"villa\",\"shank\",\"piggy\",\"freak\",\"which\",\"among\",\"fecal\",\"shell\",\"would\",\"algae\",\"large\",\"rabbi\",\"agony\",\"amuse\",\"bushy\",\"copse\",\"swoon\",\"knife\",\"pouch\",\"ascot\",\"plane\",\"crown\",\"urban\",\"snide\",\"relay\",\"abide\",\"viola\",\"rajah\",\"straw\",\"dilly\",\"crash\",\"amass\",\"third\",\"trick\",\"tutor\",\"woody\",\"blurb\",\"grief\",\"disco\",\"where\",\"sassy\",\"beach\",\"sauna\",\"comic\",\"clued\",\"creep\",\"caste\",\"graze\",\"snuff\",\"frock\",\"gonad\",\"drunk\",\"prong\",\"lurid\",\"steel\",\"halve\",\"buyer\",\"vinyl\",\"utile\",\"smell\",\"adage\",\"worry\",\"tasty\",\"local\",\"trade\",\"finch\",\"ashen\",\"modal\",\"gaunt\",\"clove\",\"enact\",\"adorn\",\"roast\",\"speck\",\"sheik\",\"missy\",\"grunt\",\"snoop\",\"party\",\"touch\",\"mafia\",\"emcee\",\"array\",\"south\",\"vapid\",\"jelly\",\"skulk\",\"angst\",\"tubal\",\"lower\",\"crest\",\"sweat\",\"cyber\",\"adore\",\"tardy\",\"swami\",\"notch\",\"groom\",\"roach\",\"hitch\",\"young\",\"align\",\"ready\",\"frond\",\"strap\",\"puree\",\"realm\",\"venue\",\"swarm\",\"offer\",\"seven\",\"dryer\",\"diary\",\"dryly\",\"drank\",\"acrid\",\"heady\",\"theta\",\"junto\",\"pixie\",\"quoth\",\"bonus\",\"shalt\",\"penne\",\"amend\",\"datum\",\"build\",\"piano\",\"shelf\",\"lodge\",\"suing\",\"rearm\",\"coral\",\"ramen\",\"worth\",\"psalm\",\"infer\",\"overt\",\"mayor\",\"ovoid\",\"glide\",\"usage\",\"poise\",\"randy\",\"chuck\",\"prank\",\"fishy\",\"tooth\",\"ether\",\"drove\",\"idler\",\"swath\",\"stint\",\"while\",\"begat\",\"apply\",\"slang\",\"tarot\",\"radar\",\"credo\",\"aware\",\"canon\",\"shift\",\"timer\",\"bylaw\",\"serum\",\"three\",\"steak\",\"iliac\",\"shirk\",\"blunt\",\"puppy\",\"penal\",\"joist\",\"bunny\",\"shape\",\"beget\",\"wheel\",\"adept\",\"stunt\",\"stole\",\"topaz\",\"chore\",\"fluke\",\"afoot\",\"bloat\",\"bully\",\"dense\",\"caper\",\"sneer\",\"boxer\",\"jumbo\",\"lunge\",\"space\",\"avail\",\"short\",\"slurp\",\"loyal\",\"flirt\",\"pizza\",\"conch\",\"tempo\",\"droop\",\"plate\",\"bible\",\"plunk\",\"afoul\",\"savoy\",\"steep\",\"agile\",\"stake\",\"dwell\",\"knave\",\"beard\",\"arose\",\"motif\",\"smash\",\"broil\",\"glare\",\"shove\",\"baggy\",\"mammy\",\"swamp\",\"along\",\"rugby\",\"wager\",\"quack\",\"squat\",\"snaky\",\"debit\",\"mange\",\"skate\",\"ninth\",\"joust\",\"tramp\",\"spurn\",\"medal\",\"micro\",\"rebel\",\"flank\",\"learn\",\"nadir\",\"maple\",\"comfy\",\"remit\",\"gruff\",\"ester\",\"least\",\"mogul\",\"fetch\",\"cause\",\"oaken\",\"aglow\",\"meaty\",\"gaffe\",\"shyly\",\"racer\",\"prowl\",\"thief\",\"stern\",\"poesy\",\"rocky\",\"tweet\",\"waist\",\"spire\",\"grope\",\"havoc\",\"patsy\",\"truly\",\"forty\",\"deity\",\"uncle\",\"swish\",\"giver\",\"preen\",\"bevel\",\"lemur\",\"draft\",\"slope\",\"annoy\",\"lingo\",\"bleak\",\"ditty\",\"curly\",\"cedar\",\"dirge\",\"grown\",\"horde\",\"drool\",\"shuck\",\"crypt\",\"cumin\",\"stock\",\"gravy\",\"locus\",\"wider\",\"breed\",\"quite\",\"chafe\",\"cache\",\"blimp\",\"deign\",\"fiend\",\"logic\",\"cheap\",\"elide\",\"rigid\",\"false\",\"renal\",\"pence\",\"rowdy\",\"shoot\",\"blaze\",\"envoy\",\"posse\",\"brief\",\"never\",\"abort\",\"mouse\",\"mucky\",\"sulky\",\"fiery\",\"media\",\"trunk\",\"yeast\",\"clear\",\"skunk\",\"scalp\",\"bitty\",\"cider\",\"koala\",\"duvet\",\"segue\",\"creme\",\"super\",\"grill\",\"after\",\"owner\",\"ember\",\"reach\",\"nobly\",\"empty\",\"speed\",\"gipsy\",\"recur\",\"smock\",\"dread\",\"merge\",\"burst\",\"kappa\",\"amity\",\"shaky\",\"hover\",\"carol\",\"snort\",\"synod\",\"faint\",\"haunt\",\"flour\",\"chair\",\"detox\",\"shrew\",\"tense\",\"plied\",\"quark\",\"burly\",\"novel\",\"waxen\",\"stoic\",\"jerky\",\"blitz\",\"beefy\",\"lyric\",\"hussy\",\"towel\",\"quilt\",\"below\",\"bingo\",\"wispy\",\"brash\",\"scone\",\"toast\",\"easel\",\"saucy\",\"value\",\"spice\",\"honor\",\"route\",\"sharp\",\"bawdy\",\"radii\",\"skull\",\"phony\",\"issue\",\"lager\",\"swell\",\"urine\",\"gassy\",\"trial\",\"flora\",\"upper\",\"latch\",\"wight\",\"brick\",\"retry\",\"holly\",\"decal\",\"grass\",\"shack\",\"dogma\",\"mover\",\"defer\",\"sober\",\"optic\",\"crier\",\"vying\",\"nomad\",\"flute\",\"hippo\",\"shark\",\"drier\",\"obese\",\"bugle\",\"tawny\",\"chalk\",\"feast\",\"ruddy\",\"pedal\",\"scarf\",\"cruel\",\"bleat\",\"tidal\",\"slush\",\"semen\",\"windy\",\"dusty\",\"sally\",\"igloo\",\"nerdy\",\"jewel\",\"shone\",\"whale\",\"hymen\",\"abuse\",\"fugue\",\"elbow\",\"crumb\",\"pansy\",\"welsh\",\"syrup\",\"terse\",\"suave\",\"gamut\",\"swung\",\"drake\",\"freed\",\"afire\",\"shirt\",\"grout\",\"oddly\",\"tithe\",\"plaid\",\"dummy\",\"broom\",\"blind\",\"torch\",\"enemy\",\"again\",\"tying\",\"pesky\",\"alter\",\"gazer\",\"noble\",\"ethos\",\"bride\",\"extol\",\"decor\",\"hobby\",\"beast\",\"idiom\",\"utter\",\"these\",\"sixth\",\"alarm\",\"erase\",\"elegy\",\"spunk\",\"piper\",\"scaly\",\"scold\",\"hefty\",\"chick\",\"sooty\",\"canal\",\"whiny\",\"slash\",\"quake\",\"joint\",\"swept\",\"prude\",\"heavy\",\"wield\",\"femme\",\"lasso\",\"maize\",\"shale\",\"screw\",\"spree\",\"smoky\",\"whiff\",\"scent\",\"glade\",\"spent\",\"prism\",\"stoke\",\"riper\",\"orbit\",\"cocoa\",\"guilt\",\"humus\",\"shush\",\"table\",\"smirk\",\"wrong\",\"noisy\",\"alert\",\"shiny\",\"elate\",\"resin\",\"whole\",\"hunch\",\"pixel\",\"polar\",\"hotel\",\"sword\",\"cleat\",\"mango\",\"rumba\",\"puffy\",\"filly\",\"billy\",\"leash\",\"clout\",\"dance\",\"ovate\",\"facet\",\"chili\",\"paint\",\"liner\",\"curio\",\"salty\",\"audio\",\"snake\",\"fable\",\"cloak\",\"navel\",\"spurt\",\"pesto\",\"balmy\",\"flash\",\"unwed\",\"early\",\"churn\",\"weedy\",\"stump\",\"lease\",\"witty\",\"wimpy\",\"spoof\",\"saner\",\"blend\",\"salsa\",\"thick\",\"warty\",\"manic\",\"blare\",\"squib\",\"spoon\",\"probe\",\"crepe\",\"knack\",\"force\",\"debut\",\"order\",\"haste\",\"teeth\",\"agent\",\"widen\",\"icily\",\"slice\",\"ingot\",\"clash\",\"juror\",\"blood\",\"abode\",\"throw\",\"unity\",\"pivot\",\"slept\",\"troop\",\"spare\",\"sewer\",\"parse\",\"morph\",\"cacti\",\"tacky\",\"spool\",\"demon\",\"moody\",\"annex\",\"begin\",\"fuzzy\",\"patch\",\"water\",\"lumpy\",\"admin\",\"omega\",\"limit\",\"tabby\",\"macho\",\"aisle\",\"skiff\",\"basis\",\"plank\",\"verge\",\"botch\",\"crawl\",\"lousy\",\"slain\",\"cubic\",\"raise\",\"wrack\",\"guide\",\"foist\",\"cameo\",\"under\",\"actor\",\"revue\",\"fraud\",\"harpy\",\"scoop\",\"climb\",\"refer\",\"olden\",\"clerk\",\"debar\",\"tally\",\"ethic\",\"cairn\",\"tulle\",\"ghoul\",\"hilly\",\"crude\",\"apart\",\"scale\",\"older\",\"plain\",\"sperm\",\"briny\",\"abbot\",\"rerun\",\"quest\",\"crisp\",\"bound\",\"befit\",\"drawn\",\"suite\",\"itchy\",\"cheer\",\"bagel\",\"guess\",\"broad\",\"axiom\",\"chard\",\"caput\",\"leant\",\"harsh\",\"curse\",\"proud\",\"swing\",\"opine\",\"taste\",\"lupus\",\"gumbo\",\"miner\",\"green\",\"chasm\",\"lipid\",\"topic\",\"armor\",\"brush\",\"crane\",\"mural\",\"abled\",\"habit\",\"bossy\",\"maker\",\"dusky\",\"dizzy\",\"lithe\",\"brook\",\"jazzy\",\"fifty\",\"sense\",\"giant\",\"surly\",\"legal\",\"fatal\",\"flunk\",\"began\",\"prune\",\"small\",\"slant\",\"scoff\",\"torus\",\"ninny\",\"covey\",\"viper\",\"taken\",\"moral\",\"vogue\",\"owing\",\"token\",\"entry\",\"booth\",\"voter\",\"chide\",\"elfin\",\"ebony\",\"neigh\",\"minim\",\"melon\",\"kneed\",\"decoy\",\"voila\",\"ankle\",\"arrow\",\"mushy\",\"tribe\",\"cease\",\"eager\",\"birth\",\"graph\",\"odder\",\"terra\",\"weird\",\"tried\",\"clack\",\"color\",\"rough\",\"weigh\",\"uncut\",\"ladle\",\"strip\",\"craft\",\"minus\",\"dicey\",\"titan\",\"lucid\",\"vicar\",\"dress\",\"ditch\",\"gypsy\",\"pasta\",\"taffy\",\"flame\",\"swoop\",\"aloof\",\"sight\",\"broke\",\"teary\",\"chart\",\"sixty\",\"wordy\",\"sheer\",\"leper\",\"nosey\",\"bulge\",\"savor\",\"clamp\",\"funky\",\"foamy\",\"toxic\",\"brand\",\"plumb\",\"dingy\",\"butte\",\"drill\",\"tripe\",\"bicep\",\"tenor\",\"krill\",\"worse\",\"drama\",\"hyena\",\"think\",\"ratio\",\"cobra\",\"basil\",\"scrum\",\"bused\",\"phone\",\"court\",\"camel\",\"proof\",\"heard\",\"angel\",\"petal\",\"pouty\",\"throb\",\"maybe\",\"fetal\",\"sprig\",\"spine\",\"shout\",\"cadet\",\"macro\",\"dodgy\",\"satyr\",\"rarer\",\"binge\",\"trend\",\"nutty\",\"leapt\",\"amiss\",\"split\",\"myrrh\",\"width\",\"sonar\",\"tower\",\"baron\",\"fever\",\"waver\",\"spark\",\"belie\",\"sloop\",\"expel\",\"smote\",\"baler\",\"above\",\"north\",\"wafer\",\"scant\",\"frill\",\"awash\",\"snack\",\"scowl\",\"frail\",\"drift\",\"limbo\",\"fence\",\"motel\",\"ounce\",\"wreak\",\"revel\",\"talon\",\"prior\",\"knelt\",\"cello\",\"flake\",\"debug\",\"anode\",\"crime\",\"salve\",\"scout\",\"imbue\",\"pinky\",\"stave\",\"vague\",\"chock\",\"fight\",\"video\",\"stone\",\"teach\",\"cleft\",\"frost\",\"prawn\",\"booty\",\"twist\",\"apnea\",\"stiff\",\"plaza\",\"ledge\",\"tweak\",\"board\",\"grant\",\"medic\",\"bacon\",\"cable\",\"brawl\",\"slunk\",\"raspy\",\"forum\",\"drone\",\"women\",\"mucus\",\"boast\",\"toddy\",\"coven\",\"tumor\",\"truer\",\"wrath\",\"stall\",\"steam\",\"axial\",\"purer\",\"daily\",\"trail\",\"niche\",\"mealy\",\"juice\",\"nylon\",\"plump\",\"merry\",\"flail\",\"papal\",\"wheat\",\"berry\",\"cower\",\"erect\",\"brute\",\"leggy\",\"snipe\",\"sinew\",\"skier\",\"penny\",\"jumpy\",\"rally\",\"umbra\",\"scary\",\"modem\",\"gross\",\"avian\",\"greed\",\"satin\",\"tonic\",\"parka\",\"sniff\",\"livid\",\"stark\",\"trump\",\"giddy\",\"reuse\",\"taboo\",\"avoid\",\"quote\",\"devil\",\"liken\",\"gloss\",\"gayer\",\"beret\",\"noise\",\"gland\",\"dealt\",\"sling\",\"rumor\",\"opera\",\"thigh\",\"tonga\",\"flare\",\"wound\",\"white\",\"bulky\",\"etude\",\"horse\",\"circa\",\"paddy\",\"inbox\",\"fizzy\",\"grain\",\"exert\",\"surge\",\"gleam\",\"belle\",\"salvo\",\"crush\",\"fruit\",\"sappy\",\"taker\",\"tract\",\"ovine\",\"spiky\",\"frank\",\"reedy\",\"filth\",\"spasm\",\"heave\",\"mambo\",\"right\",\"clank\",\"trust\",\"lumen\",\"borne\",\"spook\",\"sauce\",\"amber\",\"lathe\",\"carat\",\"corer\",\"dirty\",\"slyly\",\"affix\",\"alloy\",\"taint\",\"sheep\",\"kinky\",\"wooly\",\"mauve\",\"flung\",\"yacht\",\"fried\",\"quail\",\"brunt\",\"grimy\",\"curvy\",\"cagey\",\"rinse\",\"deuce\",\"state\",\"grasp\",\"milky\",\"bison\",\"graft\",\"sandy\",\"baste\",\"flask\",\"hedge\",\"girly\",\"swash\",\"boney\",\"coupe\",\"endow\",\"abhor\",\"welch\",\"blade\",\"tight\",\"geese\",\"miser\",\"mirth\",\"cloud\",\"cabal\",\"leech\",\"close\",\"tenth\",\"pecan\",\"droit\",\"grail\",\"clone\",\"guise\",\"ralph\",\"tango\",\"biddy\",\"smith\",\"mower\",\"payee\",\"serif\",\"drape\",\"fifth\",\"spank\",\"glaze\",\"allot\",\"truck\",\"kayak\",\"virus\",\"testy\",\"tepee\",\"fully\",\"zonal\",\"metro\",\"curry\",\"grand\",\"banjo\",\"axion\",\"bezel\",\"occur\",\"chain\",\"nasal\",\"gooey\",\"filer\",\"brace\",\"allay\",\"pubic\",\"raven\",\"plead\",\"gnash\",\"flaky\",\"munch\",\"dully\",\"eking\",\"thing\",\"slink\",\"hurry\",\"theft\",\"shorn\",\"pygmy\",\"ranch\",\"wring\",\"lemon\",\"shore\",\"mamma\",\"froze\",\"newer\",\"style\",\"moose\",\"antic\",\"drown\",\"vegan\",\"chess\",\"guppy\",\"union\",\"lever\",\"lorry\",\"image\",\"cabby\",\"druid\",\"exact\",\"truth\",\"dopey\",\"spear\",\"cried\",\"chime\",\"crony\",\"stunk\",\"timid\",\"batch\",\"gauge\",\"rotor\",\"crack\",\"curve\",\"latte\",\"witch\",\"bunch\",\"repel\",\"anvil\",\"soapy\",\"meter\",\"broth\",\"madly\",\"dried\",\"scene\",\"known\",\"magma\",\"roost\",\"woman\",\"thong\",\"punch\",\"pasty\",\"downy\",\"knead\",\"whirl\",\"rapid\",\"clang\",\"anger\",\"drive\",\"goofy\",\"email\",\"music\",\"stuff\",\"bleep\",\"rider\",\"mecca\",\"folio\",\"setup\",\"verso\",\"quash\",\"fauna\",\"gummy\",\"happy\",\"newly\",\"fussy\",\"relic\",\"guava\",\"ratty\",\"fudge\",\"femur\",\"chirp\",\"forte\",\"alibi\",\"whine\",\"petty\",\"golly\",\"plait\",\"fleck\",\"felon\",\"gourd\",\"brown\",\"thrum\",\"ficus\",\"stash\",\"decry\",\"wiser\",\"junta\",\"visor\",\"daunt\",\"scree\",\"impel\",\"await\",\"press\",\"whose\",\"turbo\",\"stoop\",\"speak\",\"mangy\",\"eying\",\"inlet\",\"crone\",\"pulse\",\"mossy\",\"staid\",\"hence\",\"pinch\",\"teddy\",\"sully\",\"snore\",\"ripen\",\"snowy\",\"attic\",\"going\",\"leach\",\"mouth\",\"hound\",\"clump\",\"tonal\",\"bigot\",\"peril\",\"piece\",\"blame\",\"haute\",\"spied\",\"undid\",\"intro\",\"basal\",\"shine\",\"gecko\",\"rodeo\",\"guard\",\"steer\",\"loamy\",\"scamp\",\"scram\",\"manly\",\"hello\",\"vaunt\",\"organ\",\"feral\",\"knock\",\"extra\",\"condo\",\"adapt\",\"willy\",\"polka\",\"rayon\",\"skirt\",\"faith\",\"torso\",\"match\",\"mercy\",\"tepid\",\"sleek\",\"riser\",\"twixt\",\"peace\",\"flush\",\"catty\",\"login\",\"eject\",\"roger\",\"rival\",\"untie\",\"refit\",\"aorta\",\"adult\",\"judge\",\"rower\",\"artsy\",\"rural\",\"shave\"]\n",
        "    self.words_full = [word.lower() for word in self.words_full]\n",
        "    self.words = self.words_full.copy()\n",
        "    self.k=k\n",
        "    self.n=len(self.words)\n",
        "\n",
        "  def calculate_word_similarity(self,a,b):\n",
        "    assert len(a)==len(b), f'{a} is a different length than {b}'\n",
        "    score = np.sum([1 for i in range(len(a)) if a[i]==b[i]])\n",
        "    a_set = set(a)\n",
        "    b_set = set(b)\n",
        "    return (score + len(a_set.intersection(b_set)))/10\n",
        "  \n",
        "  def make_similarity_graph(self):\n",
        "    n = len(self.words)\n",
        "    self.G=np.zeros((n,n))\n",
        "    for i in range(n):\n",
        "      for j in range(n):\n",
        "        self.G[i,j]=self.calculate_word_similarity(self.words[i],self.words[j])\n",
        "    self.G_csr = csr_matrix(self.G)\n",
        "  \n",
        "  def save_similarity_graph(self):\n",
        "    self.G_full = self.G.copy()\n",
        "    self.G_csr_full = self.G_csr.copy()\n",
        "\n",
        "  def make_clusters(self):\n",
        "    if len(self.words)>self.k:\n",
        "      self.clusters= SpectralClustering(n_clusters=self.k,\n",
        "                              assign_labels='discretize',\n",
        "                              affinity='precomputed',\n",
        "                              random_state=13).fit_predict(self.G_csr)\n",
        "    else:\n",
        "      self.clusters = np.array([i for i in range(self.n)])\n",
        "\n",
        "  def make_cluster_frequencies(self):\n",
        "    labels, cluster_counts = np.unique(self.clusters,return_counts=True)\n",
        "    self.cluster_freqs = cluster_counts / np.sum(cluster_counts)\n",
        "  \n",
        "  def make_word_groups(self):\n",
        "    self.words_arr = np.array(self.words)\n",
        "    self.word_groups = []\n",
        "    for i in range(self.k):\n",
        "      if i>=len(self.clusters):\n",
        "        self.word_groups.append(np.array([]))\n",
        "      else:\n",
        "        self.word_groups.append(np.asarray(self.clusters==i).nonzero()[0])\n",
        "\n",
        "  def get_state(self):\n",
        "    cluster_bins=''\n",
        "    for i in range(self.k):\n",
        "      if i>=len(self.cluster_freqs):\n",
        "        cluster_bins=cluster_bins + '0'\n",
        "      elif self.cluster_freqs[i]>0.8:\n",
        "        cluster_bins = cluster_bins + '4'\n",
        "      elif self.cluster_freqs[i]>0.6:\n",
        "        cluster_bins = cluster_bins + '3'\n",
        "      elif self.cluster_freqs[i]>0.4:\n",
        "        cluster_bins = cluster_bins + '2'\n",
        "      elif self.cluster_freqs[i]>0.2:\n",
        "        cluster_bins = cluster_bins + '1'\n",
        "      else:\n",
        "        cluster_bins = cluster_bins + '0'\n",
        "    \n",
        "    return cluster_bins\n",
        "\n",
        "  def get_word_cluster(self,cluster_index):\n",
        "    return self.words_arr[self.word_groups[cluster_index]]\n",
        "  \n",
        "  def get_cluster_centroid(self,cluster_index):\n",
        "    if len(self.word_groups[cluster_index])>0:\n",
        "      idx = self.word_groups[cluster_index]\n",
        "    else:\n",
        "      idx = np.array([0])\n",
        "    return self.words_arr[idx][np.argmax(np.sum(self.G[idx,:],axis=1))]\n",
        "\n",
        "  def filter_words(self, guess, feedback):\n",
        "    self.new_words = []\n",
        "    for word in self.words:\n",
        "      add_word=True\n",
        "      i=0\n",
        "      allowed_chars=set()\n",
        "      for j in range(len(feedback)):\n",
        "        if feedback[j]>0:\n",
        "          allowed_chars.add(guess[j])\n",
        "      while add_word and i<len(feedback):\n",
        "        if feedback[i]==0 and guess[i] in word and guess[i] not in allowed_chars:\n",
        "          add_word=False\n",
        "        elif feedback[i]==1 and guess[i] not in word:\n",
        "          add_word=False\n",
        "        elif feedback[i]==1 and word[i]==guess[i]:\n",
        "          add_word=False\n",
        "        elif feedback[i]==2 and word[i]!=guess[i]:\n",
        "          add_word=False\n",
        "        i+=1\n",
        "      if add_word:\n",
        "        self.new_words.append(word)\n",
        "    assert self.new_words, f'Filtering failed with guess: {guess} and feedback: {feedback}'\n",
        "        \n",
        "  def get_reward(self, feedback):\n",
        "    shrink_factor = self.n / len(self.new_words)\n",
        "    if np.sum(feedback)==10:\n",
        "      shrink_factor+=1000\n",
        "    return np.sum(feedback) + shrink_factor\n",
        "\n",
        "  def update_word_list(self):\n",
        "    self.words = self.new_words\n",
        "    self.n=len(self.words)\n",
        "  \n",
        "  def reset(self):\n",
        "    self.words = self.words_full.copy()\n",
        "    self.n = len(self.words)\n",
        "    self.G = self.G_full.copy()\n",
        "    self.G_csr = self.G_csr_full.copy()\n"
      ],
      "metadata": {
        "id": "Bo6klHSgaHD2"
      },
      "execution_count": null,
      "outputs": []
    },
    {
      "cell_type": "markdown",
      "source": [
        "### Q Learner Class"
      ],
      "metadata": {
        "id": "dEaoFDYGqP3J"
      }
    },
    {
      "cell_type": "markdown",
      "source": [
        "The below cell defines a Q Learner class with the following responsibilities:\n",
        "* Use information about current state ($s$), current action ($a$), new state ($s'$), and associated reward ($r$) to iteratively build a Q Table\n",
        "* Use the Q Table to choose an action (either randomly or to maximize expected reward based on an exponentially decaying random-action threshold)"
      ],
      "metadata": {
        "id": "b26X7c6UqUE6"
      }
    },
    {
      "cell_type": "code",
      "source": [
        "class QLearner():\n",
        "  def __init__(self,\n",
        "               action_count=5,\n",
        "               alpha=0.2,\n",
        "               gamma=0.9,\n",
        "               random_action_rate=0.5,\n",
        "               random_action_decay_rate=0.99):\n",
        "    self.action_count=action_count\n",
        "    self.alpha=alpha\n",
        "    self.gamma=gamma\n",
        "    self.random_action_rate=random_action_decay_rate\n",
        "    self.random_action_decay_rate=random_action_decay_rate\n",
        "    self.s='10001'\n",
        "    self.a=0\n",
        "    self.qtable={'10001':np.zeros(self.action_count)}\n",
        "  \n",
        "  def get_random_action(self):\n",
        "    return random.randint(0, self.action_count-1)\n",
        "  \n",
        "  def update_qtable(self,s,a,s_prime,r):\n",
        "    if s_prime in self.qtable.keys():\n",
        "      a_prime = np.argmax(self.qtable[s_prime])\n",
        "    else:\n",
        "      self.qtable[s_prime]=np.zeros(self.action_count)\n",
        "      a_prime = random.randint(0,self.action_count-1)\n",
        "    \n",
        "    self.qtable[s][a]=(1-self.alpha)*self.qtable[s][a]+self.alpha*(r+self.gamma*self.qtable[s_prime][a_prime])\n",
        "    return a_prime\n",
        "\n",
        "  def get_action(self, s_prime, r):\n",
        "    a_prime = self.update_qtable(self.s,self.a,s_prime,r)\n",
        "    self.random_action_rate = self.random_action_rate * self.random_action_decay_rate\n",
        "    random_action = np.random.random() <= self.random_action_rate\n",
        "    if random_action:\n",
        "      action = self.get_random_action()\n",
        "    else:\n",
        "      action = a_prime\n",
        "    \n",
        "    self.s=s_prime\n",
        "    self.a=action\n",
        "    return action\n"
      ],
      "metadata": {
        "id": "lZ7Q6Gd_qOsU"
      },
      "execution_count": null,
      "outputs": []
    },
    {
      "cell_type": "markdown",
      "source": [
        "### Grader Class"
      ],
      "metadata": {
        "id": "KZwxB-d418FR"
      }
    },
    {
      "cell_type": "markdown",
      "source": [
        "The cell below defines a Grader class with the following responsibilities:\n",
        "* Picks a random word from the word bank\n",
        "* Evaluates each letter (indexed by $i$ from a guessed word and returns feedback in the following form:\n",
        "\n",
        "$$\n",
        "feedback_i = \\begin{cases}\n",
        "0, && if \\ letter \\ not \\ in \\ word  \\\\\n",
        "1, && if \\ letter \\ in \\ word \\ at \\ wrong \\ position \\\\ \n",
        "2 && if \\ letter \\ in \\ word \\ in \\ correct \\ position\n",
        "\\end{cases}\n",
        "$$"
      ],
      "metadata": {
        "id": "TPzuk6oB1-to"
      }
    },
    {
      "cell_type": "code",
      "source": [
        "class Grader():\n",
        "  def __init__(self):\n",
        "    pass\n",
        "  \n",
        "  def pick_word(self,words):\n",
        "    self.word = np.random.choice(words)\n",
        "  \n",
        "  def evaluate_guess(self,guess):\n",
        "    word_copy=self.word\n",
        "    feedback = np.zeros(5)\n",
        "    for i in range(5):\n",
        "      if guess[i]==self.word[i]:\n",
        "        feedback[i]=2\n",
        "      elif guess[i] in word_copy:\n",
        "        feedback[i]=1\n",
        "        word_char_index = word_copy.index(guess[i])\n",
        "        word_copy = word_copy[:word_char_index] + word_copy[word_char_index+1:]\n",
        "      else:\n",
        "        feedback[i]=0\n",
        "    return feedback\n"
      ],
      "metadata": {
        "id": "YPgwIoLB1g2i"
      },
      "execution_count": null,
      "outputs": []
    },
    {
      "cell_type": "markdown",
      "source": [
        "### Main Program"
      ],
      "metadata": {
        "id": "tcqogrmkZnWn"
      }
    },
    {
      "cell_type": "markdown",
      "source": [
        "In this section, the Wordle Bot plays 1,000 simulated games where the \"correct\" answer for each game is chosen at random. The number of guesses required to identify the correct word is recorded for each game, and the Bot's performance is described."
      ],
      "metadata": {
        "id": "25Q2z4Xg3-9z"
      }
    },
    {
      "cell_type": "code",
      "source": [
        "def initialize_simulation():\n",
        "  interpreter = Interpreter()\n",
        "  interpreter.make_similarity_graph()\n",
        "  interpreter.save_similarity_graph()\n",
        "  qlearner = QLearner()\n",
        "  grader = Grader()\n",
        "  return interpreter, qlearner, grader"
      ],
      "metadata": {
        "id": "t-_JnqrvD393"
      },
      "execution_count": null,
      "outputs": []
    },
    {
      "cell_type": "code",
      "source": [
        "def run_simulation(interpreter, qlearner, grader, verbose=True):\n",
        "  guess_count=0\n",
        "  grader.pick_word(interpreter.words)\n",
        "  won=False\n",
        "  r=0\n",
        "  while not won:\n",
        "    interpreter.make_clusters()\n",
        "    interpreter.make_cluster_frequencies()\n",
        "    interpreter.make_word_groups()\n",
        "    s = interpreter.get_state()\n",
        "    a = qlearner.get_action(s,r)\n",
        "    guess = interpreter.get_cluster_centroid(a)\n",
        "    feedback = grader.evaluate_guess(guess)\n",
        "    guess_count+=1\n",
        "    if np.sum(feedback)==10:\n",
        "      r = interpreter.get_reward(feedback)\n",
        "      a = qlearner.get_action(s,r)\n",
        "      won=True\n",
        "    else:\n",
        "      interpreter.filter_words(guess, feedback)\n",
        "      r = interpreter.get_reward(feedback)\n",
        "      interpreter.update_word_list()\n",
        "      interpreter.make_similarity_graph()\n",
        "  if verbose:\n",
        "    print(f'Guessed {grader.word} in {guess_count} guesses')\n",
        "  interpreter.reset()\n",
        "  return guess_count, interpreter, qlearner, grader\n",
        "  "
      ],
      "metadata": {
        "id": "VL5nFrvRE4DB"
      },
      "execution_count": null,
      "outputs": []
    },
    {
      "cell_type": "code",
      "source": [
        "interpreter, qlearner, grader = initialize_simulation()\n",
        "training_epochs=1000\n",
        "epochs = np.arange(training_epochs)\n",
        "guesses = np.zeros(training_epochs)\n",
        "for i in range(training_epochs):\n",
        "  guess_count, interpreter, qlearner, grader = run_simulation(interpreter,\n",
        "                                                            qlearner,\n",
        "                                                            grader,\n",
        "                                                            verbose=False)\n",
        "  guesses[i]=guess_count"
      ],
      "metadata": {
        "id": "u0_1sI5Frp9K"
      },
      "execution_count": null,
      "outputs": []
    },
    {
      "cell_type": "code",
      "source": [
        "%matplotlib inline\n",
        "plt.bar(epochs,guesses)\n",
        "plt.show()"
      ],
      "metadata": {
        "colab": {
          "base_uri": "https://localhost:8080/",
          "height": 265
        },
        "id": "g-dMERxPEmd5",
        "outputId": "1281778c-f48f-4485-de89-c46a2253f17a"
      },
      "execution_count": null,
      "outputs": [
        {
          "output_type": "display_data",
          "data": {
            "image/png": "[encoded data removed]",
            "text/plain": [
              "<Figure size 432x288 with 1 Axes>"
            ]
          },
          "metadata": {
            "needs_background": "light"
          }
        }
      ]
    },
    {
      "cell_type": "code",
      "source": [
        "print(f'Average guesses: {np.mean(guesses)}')"
      ],
      "metadata": {
        "colab": {
          "base_uri": "https://localhost:8080/"
        },
        "id": "63Cai3PnE7uf",
        "outputId": "b826e77b-0555-4634-8f0d-6a66bfe99bd7"
      },
      "execution_count": null,
      "outputs": [
        {
          "output_type": "stream",
          "name": "stdout",
          "text": [
            "Average guesses: 3.767\n"
          ]
        }
      ]
    },
    {
      "cell_type": "code",
      "source": [
        "print(f'Total game losses out of {training_epochs}: {np.sum(guesses>6)}')"
      ],
      "metadata": {
        "colab": {
          "base_uri": "https://localhost:8080/"
        },
        "id": "GW32BPZdFCf-",
        "outputId": "8acbedca-b105-4388-a12a-adb1dc459aed"
      },
      "execution_count": null,
      "outputs": [
        {
          "output_type": "stream",
          "name": "stdout",
          "text": [
            "Total game losses out of 1000: 8\n"
          ]
        }
      ]
    },
    {
      "cell_type": "code",
      "source": [
        "print(f'Overall win rate: {(training_epochs-np.sum(guesses>6))/training_epochs*100}%')"
      ],
      "metadata": {
        "colab": {
          "base_uri": "https://localhost:8080/"
        },
        "id": "L30AVOF-FHmq",
        "outputId": "e31e1bba-c646-45cc-b550-54a1053211a4"
      },
      "execution_count": null,
      "outputs": [
        {
          "output_type": "stream",
          "name": "stdout",
          "text": [
            "Overall win rate: 99.2%\n"
          ]
        }
      ]
    }
  ]
}